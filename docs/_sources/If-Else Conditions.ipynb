{
 "cells": [
  {
   "cell_type": "markdown",
   "id": "2553bf5c-a7b2-4636-8eaf-45885b06c864",
   "metadata": {},
   "source": [
    "# If-Else Conditions"
   ]
  },
  {
   "cell_type": "markdown",
   "id": "6479aa90-b976-4d5e-8f30-238528acdcae",
   "metadata": {},
   "source": [
    "We can condition our data using if-else statements and switch cases.  If-else statements allow us to do different things if a certain criterion is met or not. We can count the odds and evens in our someNumbers list."
   ]
  },
  {
   "cell_type": "markdown",
   "id": "8e09d0e4-695e-41c5-b446-b604c06937d4",
   "metadata": {},
   "source": [
    "## if"
   ]
  },
  {
   "cell_type": "markdown",
   "id": "7efef757-4393-4b1e-8936-e4883c20bcfc",
   "metadata": {},
   "source": [
    "The *if* statement starts with if and then lists a condition that may or may not be met. If the condition is true, we do what is listed. If it is not, we move on. \n",
    "\n",
    "Our example here is straightforward, if answer is greater than 30, print something."
   ]
  },
  {
   "cell_type": "code",
   "execution_count": 1,
   "id": "d9ffc097-e864-43e5-b091-a26355154299",
   "metadata": {},
   "outputs": [
    {
     "name": "stdout",
     "output_type": "stream",
     "text": [
      "This number is greater than 30\n"
     ]
    }
   ],
   "source": [
    "answer = 42\n",
    "\n",
    "if answer > 30:\n",
    "    print( \"This number is greater than 30\")"
   ]
  },
  {
   "cell_type": "markdown",
   "id": "287907cd-acc7-4d5f-997e-e72229722c2b",
   "metadata": {},
   "source": [
    "OK, same concept. "
   ]
  },
  {
   "cell_type": "code",
   "execution_count": 3,
   "id": "56f70a30-92fa-41dd-9056-b3386a0008fe",
   "metadata": {},
   "outputs": [],
   "source": [
    "answer = 42\n",
    "\n",
    "if answer > 50:\n",
    "    print( \"This number is greater than 50\")"
   ]
  },
  {
   "cell_type": "markdown",
   "id": "e4e15d1e-66a7-48a5-a350-d2d4189fb800",
   "metadata": {},
   "source": [
    "```{note}\n",
    "Note the structure of a Python if/else statement. Where some languages use { } to denote the start and end of the if/else statement. Python uses spaces. \n",
    "\n",
    "if (condition): <-colon\n",
    " <- space or tab\n",
    " \n",
    "Anything that is also spaced or tab is *part* of the if statement. \n",
    "\n",
    "```"
   ]
  },
  {
   "cell_type": "markdown",
   "id": "4dfd5c37-0628-48c4-a9c3-f822ba8f9db5",
   "metadata": {},
   "source": [
    "### Where the if Starts and Ends"
   ]
  },
  {
   "cell_type": "markdown",
   "id": "bd4e654e-5590-4fc8-8ad4-9c3bde70927b",
   "metadata": {},
   "source": [
    "As mentioned in our note, the if/else statement uses space"
   ]
  },
  {
   "cell_type": "markdown",
   "id": "75aca4d6-2d2e-4918-b383-9087ea5d67a3",
   "metadata": {},
   "source": [
    "## else"
   ]
  },
  {
   "cell_type": "markdown",
   "id": "ead5f407-6e65-47b8-b56c-92a137107642",
   "metadata": {},
   "source": [
    "In these examples, only the numbers that are greater than 30 and 50 will get any response.  We can add a response for values that do not meet the conditional statement found within the if using an else statement"
   ]
  },
  {
   "cell_type": "code",
   "execution_count": null,
   "id": "7f94c76b-80a2-4a2c-b6eb-a4a232df1ff6",
   "metadata": {},
   "outputs": [],
   "source": [
    "answer = 42\n",
    "\n",
    "if answer > 30:\n",
    "    print( \"This number is greater than 30\")\n",
    "else:\n",
    "    print( \"This number is not greater than 30\")\n",
    "    \n",
    "if answer > 50:\n",
    "    print( \"This number is greater than 50\")\n",
    "else:\n",
    "    print( \"This number is not greater than 50\")"
   ]
  },
  {
   "cell_type": "markdown",
   "id": "e2e2559d-9be7-4c6b-a8b0-2b3f81eb2d2d",
   "metadata": {},
   "source": [
    "## elif (else if)"
   ]
  },
  {
   "cell_type": "markdown",
   "id": "39996b3d-275b-4e7a-a4f3-15ecf56fe7e9",
   "metadata": {},
   "source": [
    "If-else statements can also be stacked together, to allow for additional sorting using multiple conditions.  The way this is done in python is by using \n",
    "```python\n",
    "elif\n",
    "```\n",
    "to provide another condition. Let's count the odds again, and count the evens but split between those that are greater than or equal to 0 and those that aren't, and change all of the negative evens to 0.  Note that we use the index of the value so that we can set the value to 0 for the negative evens."
   ]
  }
 ],
 "metadata": {
  "kernelspec": {
   "display_name": "Python 3",
   "language": "python",
   "name": "python3"
  },
  "language_info": {
   "codemirror_mode": {
    "name": "ipython",
    "version": 3
   },
   "file_extension": ".py",
   "mimetype": "text/x-python",
   "name": "python",
   "nbconvert_exporter": "python",
   "pygments_lexer": "ipython3",
   "version": "3.8.5"
  }
 },
 "nbformat": 4,
 "nbformat_minor": 5
}
