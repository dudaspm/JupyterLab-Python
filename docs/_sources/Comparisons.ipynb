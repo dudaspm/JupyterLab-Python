{
 "cells": [
  {
   "cell_type": "markdown",
   "metadata": {
    "slideshow": {
     "slide_type": "slide"
    }
   },
   "source": [
    "# Comparison Operators"
   ]
  },
  {
   "cell_type": "markdown",
   "metadata": {
    "slideshow": {
     "slide_type": "slide"
    }
   },
   "source": [
    "We need to be able to compare different variables.  We will be working on:\n",
    "* Are these things the same?\n",
    "* Are these things not the same?\n",
    "* How do these things compare?\n",
    "\n",
    "We can compare any data type, and our output will be a boolean (True or False).  The other things we will cover are:\n",
    "* Comparing different data types\n",
    "* Making multiple comparisons at once\n",
    "\n",
    "Comparison operators are important on their own (how do these things compare?) and are also useful for sorting and switching (see the next notebook.) "
   ]
  },
  {
   "cell_type": "markdown",
   "metadata": {
    "slideshow": {
     "slide_type": "slide"
    }
   },
   "source": [
    "## Are these things the same?"
   ]
  },
  {
   "cell_type": "markdown",
   "metadata": {
    "slideshow": {
     "slide_type": "fragment"
    }
   },
   "source": [
    "We have already initiated variables by setting something equal to something else - let's do that here by setting aVar equal to 10 and then setting bVar equal to aVar."
   ]
  },
  {
   "cell_type": "code",
   "execution_count": 10,
   "metadata": {
    "slideshow": {
     "slide_type": "fragment"
    }
   },
   "outputs": [
    {
     "name": "stdout",
     "output_type": "stream",
     "text": [
      "aVar= 10 ; bVar = 10 ; cVar =  11\n"
     ]
    }
   ],
   "source": [
    "aVar = 10\n",
    "bVar = aVar\n",
    "cVar = 11 \n",
    "\n",
    "print( \"aVar=\", aVar, \"; bVar =\", bVar, \"; cVar = \", cVar )"
   ]
  },
  {
   "cell_type": "markdown",
   "metadata": {
    "slideshow": {
     "slide_type": "slide"
    }
   },
   "source": [
    "The first comparison operator is '==' which tests to see if two variables are equal. "
   ]
  },
  {
   "cell_type": "code",
   "execution_count": 11,
   "metadata": {
    "slideshow": {
     "slide_type": "fragment"
    }
   },
   "outputs": [
    {
     "name": "stdout",
     "output_type": "stream",
     "text": [
      "aVar= 10 ; bVar = 10 ; cVar =  11\n",
      "\n",
      "#-# Is aVar equal to bVar?\n",
      "True\n",
      "\n",
      "#-# Is aVar equal to cVar?\n",
      "False\n"
     ]
    }
   ],
   "source": [
    "print( \"aVar=\", aVar, \"; bVar =\", bVar, \"; cVar = \", cVar )\n",
    "\n",
    "# Is aVar equal to bVar?\n",
    "print( \"\\n#-# Is aVar equal to bVar?\")\n",
    "print( aVar == bVar )\n",
    "\n",
    "# Is aVar equal to cVar?\n",
    "print( \"\\n#-# Is aVar equal to cVar?\")\n",
    "print( aVar == cVar )"
   ]
  },
  {
   "cell_type": "markdown",
   "metadata": {
    "slideshow": {
     "slide_type": "fragment"
    }
   },
   "source": [
    "This tells us that aVar is equal to bVar, because it returns 'True' and aVar is not equal to cVar, as that returns 'False.'"
   ]
  },
  {
   "cell_type": "markdown",
   "metadata": {},
   "source": [
    "We can also do comparisons with other variable types.  Here's an example with strings instead of integers"
   ]
  },
  {
   "cell_type": "code",
   "execution_count": 12,
   "metadata": {},
   "outputs": [
    {
     "name": "stdout",
     "output_type": "stream",
     "text": [
      "aStr= apple ; bStr = banana ; cStr =  apple\n",
      "\n",
      "#-# Is aStr equal to bStr?\n",
      "False\n",
      "\n",
      "#-# Is aStr equal to cStr?\n",
      "True\n"
     ]
    }
   ],
   "source": [
    "aStr = 'apple'\n",
    "bStr = 'banana'\n",
    "cStr = 'apple' \n",
    "print( \"aStr=\", aStr,\"; bStr =\", bStr,\"; cStr = \", cStr )\n",
    "\n",
    "# Is aStr equal to bStr?\n",
    "print( \"\\n#-# Is aStr equal to bStr?\")\n",
    "print( aStr == bStr )\n",
    "\n",
    "# Is aStr equal to cStr?\n",
    "print( \"\\n#-# Is aStr equal to cStr?\")\n",
    "print( aStr == cStr )"
   ]
  },
  {
   "cell_type": "markdown",
   "metadata": {},
   "source": [
    "## Are these things different?"
   ]
  },
  {
   "cell_type": "markdown",
   "metadata": {
    "slideshow": {
     "slide_type": "slide"
    }
   },
   "source": [
    "We can also test to see if two values are not equal using the '!=' operator."
   ]
  },
  {
   "cell_type": "code",
   "execution_count": 21,
   "metadata": {
    "slideshow": {
     "slide_type": "fragment"
    }
   },
   "outputs": [
    {
     "name": "stdout",
     "output_type": "stream",
     "text": [
      "aVar= 10 ; bVar = 10 ; cVar =  11\n",
      "\n",
      "#-# Is aVar not equal to bVar?\n",
      "False\n",
      "\n",
      "#-# Is aVar not equal to cVar?\n",
      "True\n"
     ]
    }
   ],
   "source": [
    "print( \"aVar=\", aVar, \"; bVar =\", bVar, \"; cVar = \", cVar )\n",
    "\n",
    "# Is aVar not equal to bVar?\n",
    "print( \"\\n#-# Is aVar not equal to bVar?\")\n",
    "print( aVar != bVar )\n",
    "\n",
    "# Is aVar not equal to cVar?\n",
    "print( \"\\n#-# Is aVar not equal to cVar?\")\n",
    "print( aVar != cVar )"
   ]
  },
  {
   "cell_type": "markdown",
   "metadata": {
    "slideshow": {
     "slide_type": "fragment"
    }
   },
   "source": [
    "This gives us the opposite of what we had before.  It is false that aVar and bVar are not equal, meaning that they are equal.  It is true that aVar and cVar are not equal."
   ]
  },
  {
   "cell_type": "markdown",
   "metadata": {},
   "source": [
    "## How do these things compare?"
   ]
  },
  {
   "cell_type": "markdown",
   "metadata": {
    "slideshow": {
     "slide_type": "slide"
    }
   },
   "source": [
    "We can also compare the magnitude of values using '<', '<=', '>'and '>=', which will return 'True' if the condition is being met."
   ]
  },
  {
   "cell_type": "code",
   "execution_count": 14,
   "metadata": {
    "slideshow": {
     "slide_type": "subslide"
    }
   },
   "outputs": [
    {
     "name": "stdout",
     "output_type": "stream",
     "text": [
      "aVar= 10 ; bVar = 10\n",
      "\n",
      "#-# Is aVar less than bVar?\n",
      "False\n",
      "\n",
      "#-# Is aVar less than or equal to bVar?\n",
      "True\n",
      "\n",
      "#-# Is aVar greater than or equal to bVar?\n",
      "True\n",
      "\n",
      "#-# Is aVar greater than bVar?\n",
      "False\n"
     ]
    }
   ],
   "source": [
    "print( \"aVar=\", aVar, \"; bVar =\", bVar )\n",
    "\n",
    "# Is aVar less than bVar?\n",
    "print( \"\\n#-# Is aVar less than bVar?\")\n",
    "print( aVar < bVar )\n",
    "\n",
    "# Is aVar less than or equal to bVar?\n",
    "print( \"\\n#-# Is aVar less than or equal to bVar?\")\n",
    "print( aVar <= bVar )\n",
    "\n",
    "# Is aVar greater than or equal to bVar?\n",
    "print( \"\\n#-# Is aVar greater than or equal to bVar?\")\n",
    "print( aVar >= bVar )\n",
    "\n",
    "# Is aVar greater than bVar?\n",
    "print( \"\\n#-# Is aVar greater than bVar?\")\n",
    "print( aVar > bVar )"
   ]
  },
  {
   "cell_type": "markdown",
   "metadata": {},
   "source": [
    "## Warnings for variable types"
   ]
  },
  {
   "cell_type": "markdown",
   "metadata": {
    "slideshow": {
     "slide_type": "slide"
    }
   },
   "source": [
    "We do have to watch out for our types. A string of a value is not the same as a value"
   ]
  },
  {
   "cell_type": "code",
   "execution_count": 15,
   "metadata": {
    "slideshow": {
     "slide_type": "subslide"
    }
   },
   "outputs": [
    {
     "name": "stdout",
     "output_type": "stream",
     "text": [
      "aVar= 10 ; aStr = 10 ; aFlt = 10.0\n",
      "\n",
      "#-# Is aVar equal to aStr?\n",
      "False\n",
      "aVar type is  <class 'int'> ; and aStr type is  <class 'str'>\n",
      "\n",
      "#-# Is aVar equal to aFlt?\n",
      "True\n"
     ]
    }
   ],
   "source": [
    "aStr = '10'\n",
    "aFlt = 10.0\n",
    "print( \"aVar=\", aVar, \"; aStr =\", aStr, \"; aFlt =\", aFlt  )\n",
    "\n",
    "# Is aVar equal to aStr?\n",
    "print( \"\\n#-# Is aVar equal to aStr?\")\n",
    "print( aVar == aStr )\n",
    "print( \"aVar type is \", type( aVar ), \"; and aStr type is \", type( aStr ) )\n",
    "\n",
    "# Is aVar equal to aFlt?\n",
    "print( \"\\n#-# Is aVar equal to aFlt?\")\n",
    "print( aVar == aFlt)"
   ]
  },
  {
   "cell_type": "markdown",
   "metadata": {},
   "source": [
    "We can compare integers and floats (!) but not other disparate data types.\n",
    "\n",
    "If you let python take care of your data-types, be warned that they could be different from what you think they are!"
   ]
  },
  {
   "cell_type": "markdown",
   "metadata": {},
   "source": [
    "## Multiple Comparisons"
   ]
  },
  {
   "cell_type": "markdown",
   "metadata": {},
   "source": [
    "We can make multiple comparisons at once by stringing the statements\n",
    "* and\n",
    "* not\n",
    "* or\n",
    "\n",
    "together. \n",
    "\n",
    "The individual testable (true/false) components need to be broken apart. For example,\n",
    "* If the V CATA bus is coming around the corner, then I need to run towards the bus stop\n",
    "\n",
    "requires several things for it to be true, and to require running.  We can break these things out with:\n",
    "* If there is a vehicle coming around the corner AND that vehicle is a CATA bus AND that CATA bus is a V, then I need to run towards the bus stop\n",
    "\n",
    "We will only run towards the bus stop if all of the statements are true"
   ]
  },
  {
   "cell_type": "markdown",
   "metadata": {},
   "source": [
    "### AND"
   ]
  },
  {
   "cell_type": "markdown",
   "metadata": {
    "slideshow": {
     "slide_type": "slide"
    }
   },
   "source": [
    "The and operator will return True if all of the conditions are met"
   ]
  },
  {
   "cell_type": "code",
   "execution_count": 16,
   "metadata": {
    "slideshow": {
     "slide_type": "fragment"
    }
   },
   "outputs": [
    {
     "name": "stdout",
     "output_type": "stream",
     "text": [
      "aVar= 10 ; bVar = 10 ; cVar =  11\n",
      "\n",
      "#-# Is aVar equal to 10?\n",
      "True\n",
      "\n",
      "#-# Is aVar equal to bVar?\n",
      "True\n",
      "\n",
      "#-# Is aVar equal to cVar?\n",
      "False\n",
      "\n",
      "#-# Is aVar equal to 10 AND aVar equal to bVar?\n",
      "True\n",
      "\n",
      "#-# Is aVar equal to 10 AND aVar equal to cVar?\n",
      "False\n"
     ]
    }
   ],
   "source": [
    "print( \"aVar=\", aVar, \"; bVar =\", bVar, \"; cVar = \", cVar )\n",
    "\n",
    "# Is aVar equal to 10?\n",
    "print( \"\\n#-# Is aVar equal to 10?\")\n",
    "print( aVar == 10 )\n",
    "      \n",
    "# Is aVar equal to bVar?\n",
    "print( \"\\n#-# Is aVar equal to bVar?\" )\n",
    "print( aVar == bVar )\n",
    "\n",
    "# Is aVar equal to cVar?\n",
    "print( \"\\n#-# Is aVar equal to cVar?\" )\n",
    "print( aVar == cVar )\n",
    "\n",
    "# Is aVar equal to 10 AND aVar equal to bVar?\n",
    "print ( \"\\n#-# Is aVar equal to 10 AND aVar equal to bVar?\")\n",
    "print( (aVar == 10) and (aVar == bVar) )\n",
    "\n",
    "# Is aVar equal to 10 AND aVar equal to cVar?\n",
    "print ( \"\\n#-# Is aVar equal to 10 AND aVar equal to cVar?\")\n",
    "print( (aVar == 10) and (aVar == cVar) )\n",
    "\n"
   ]
  },
  {
   "cell_type": "markdown",
   "metadata": {},
   "source": [
    "We can also string as many comparisons together as we want"
   ]
  },
  {
   "cell_type": "code",
   "execution_count": 17,
   "metadata": {},
   "outputs": [
    {
     "name": "stdout",
     "output_type": "stream",
     "text": [
      "True\n"
     ]
    }
   ],
   "source": [
    "print( (1 < 2) and (1 < 3) and (1 < 4) and (1 < 5) and (1 < 6) and (1 < 7) and (1 < 8) )"
   ]
  },
  {
   "cell_type": "markdown",
   "metadata": {},
   "source": [
    "### OR"
   ]
  },
  {
   "cell_type": "markdown",
   "metadata": {
    "slideshow": {
     "slide_type": "slide"
    }
   },
   "source": [
    "If we want 'True' for either of the conditions to be met, we can use the 'or' operator."
   ]
  },
  {
   "cell_type": "code",
   "execution_count": 18,
   "metadata": {
    "slideshow": {
     "slide_type": "fragment"
    }
   },
   "outputs": [
    {
     "name": "stdout",
     "output_type": "stream",
     "text": [
      "aVar= 10 ; bVar = 10 ; cVar =  11\n",
      "\n",
      "#-# Is aVar equal to 10?\n",
      "True\n",
      "\n",
      "#-# Is aVar equal to bVar?\n",
      "True\n",
      "\n",
      "#-# Is aVar equal to cVar?\n",
      "False\n",
      "\n",
      "#-# Is aVar equal to 11?\n",
      "False\n",
      "\n",
      "#-# Is aVar equal to 10 OR aVar equal to bVar?\n",
      "True\n",
      "\n",
      "#-# Is aVar equal to 10 or aVar equal to cVar?\n",
      "True\n",
      "\n",
      "#-# Is aVar equal to 11 or aVar equal to cVar?\n",
      "False\n"
     ]
    }
   ],
   "source": [
    "print( \"aVar=\", aVar, \"; bVar =\", bVar, \"; cVar = \", cVar )\n",
    "\n",
    "# Is aVar equal to 10?\n",
    "print( \"\\n#-# Is aVar equal to 10?\")\n",
    "print( aVar == 10 )\n",
    "      \n",
    "# Is aVar equal to bVar?\n",
    "print( \"\\n#-# Is aVar equal to bVar?\" )\n",
    "print( aVar == bVar )\n",
    "\n",
    "# Is aVar equal to cVar?\n",
    "print( \"\\n#-# Is aVar equal to cVar?\" )\n",
    "print( aVar == cVar )\n",
    "\n",
    "# Is aVar equal to 10?\n",
    "print( \"\\n#-# Is aVar equal to 11?\")\n",
    "print( aVar == 11 )\n",
    "\n",
    "# Is aVar equal to 10 OR aVar equal to bVar?\n",
    "print ( \"\\n#-# Is aVar equal to 10 OR aVar equal to bVar?\")\n",
    "print( (aVar == 10) or (aVar == bVar) )\n",
    "\n",
    "# Is aVar equal to 10 OR aVar equal to cVar?\n",
    "print ( \"\\n#-# Is aVar equal to 10 or aVar equal to cVar?\")\n",
    "print( (aVar == 10) or (aVar == cVar) )\n",
    "\n",
    "# Is aVar equal to 11 OR aVar equal to cVar?\n",
    "print ( \"\\n#-# Is aVar equal to 11 or aVar equal to cVar?\")\n",
    "print( (aVar == 11) or (aVar == cVar) )"
   ]
  },
  {
   "cell_type": "markdown",
   "metadata": {},
   "source": [
    "### Not"
   ]
  },
  {
   "cell_type": "markdown",
   "metadata": {},
   "source": [
    "We can add a not to change the meaning of the and/or operators"
   ]
  },
  {
   "cell_type": "code",
   "execution_count": 19,
   "metadata": {
    "slideshow": {
     "slide_type": "fragment"
    }
   },
   "outputs": [
    {
     "name": "stdout",
     "output_type": "stream",
     "text": [
      "aVar= 10 ; bVar = 10\n",
      "\n",
      "#-# Is aVar equal to 10?\n",
      "True\n",
      "\n",
      "#-# Is aVar equal to bVar?\n",
      "True\n",
      "\n",
      "#-# Is aVar equal to 10 AND aVar equal to bVar?\n",
      "True\n",
      "\n",
      "#-# Is aVar equal to 10 AND NOT aVar equal to bVar?\n",
      "False\n"
     ]
    }
   ],
   "source": [
    "print( \"aVar=\", aVar, \"; bVar =\", bVar )\n",
    "\n",
    "# Is aVar equal to 10?\n",
    "print( \"\\n#-# Is aVar equal to 10?\")\n",
    "print( aVar == 10 )\n",
    "      \n",
    "# Is aVar equal to bVar?\n",
    "print( \"\\n#-# Is aVar equal to bVar?\" )\n",
    "print( aVar == bVar )\n",
    "\n",
    "\n",
    "# Is aVar equal to 10 AND aVar equal to bVar?\n",
    "print ( \"\\n#-# Is aVar equal to 10 AND aVar equal to bVar?\")\n",
    "print( (aVar == 10) and (aVar == bVar) )\n",
    "\n",
    "# Is aVar equal to 10 AND NOT aVar equal to bVar?\n",
    "print ( \"\\n#-# Is aVar equal to 10 AND NOT aVar equal to bVar?\")\n",
    "print( (aVar == 10) and not (aVar == bVar) )\n",
    "\n"
   ]
  },
  {
   "cell_type": "markdown",
   "metadata": {
    "slideshow": {
     "slide_type": "slide"
    }
   },
   "source": [
    "## Check yourself"
   ]
  },
  {
   "cell_type": "markdown",
   "metadata": {},
   "source": [
    "Try to fill in code to fulfill the request!  Here are some variables used in the excercise"
   ]
  },
  {
   "cell_type": "code",
   "execution_count": 20,
   "metadata": {},
   "outputs": [],
   "source": [
    "dogA_color='brown'\n",
    "dogA_mass=42\n",
    "dogA_gender='male'\n",
    "dogA_age=5\n",
    "dogA_name='chip'\n",
    "\n",
    "dogB_color='white'\n",
    "dogB_mass=19\n",
    "dogB_gender='female'\n",
    "dogB_age=2\n",
    "dogB_name='lady'"
   ]
  },
  {
   "cell_type": "markdown",
   "metadata": {},
   "source": [
    "Is dogA the same color as dogB? (False)"
   ]
  },
  {
   "cell_type": "code",
   "execution_count": 51,
   "metadata": {},
   "outputs": [
    {
     "name": "stdout",
     "output_type": "stream",
     "text": [
      "False\n"
     ]
    }
   ],
   "source": [
    "# Example:\n",
    "print( dogA_color == dogB_color )"
   ]
  },
  {
   "cell_type": "markdown",
   "metadata": {},
   "source": [
    "Does dogA have the same name as dogB? (False)"
   ]
  },
  {
   "cell_type": "code",
   "execution_count": 52,
   "metadata": {},
   "outputs": [],
   "source": [
    "# Try it out here:\n"
   ]
  },
  {
   "cell_type": "markdown",
   "metadata": {},
   "source": [
    "Is dogA older than dogB? (True)"
   ]
  },
  {
   "cell_type": "code",
   "execution_count": 53,
   "metadata": {},
   "outputs": [],
   "source": [
    "# Try it out here:"
   ]
  },
  {
   "cell_type": "markdown",
   "metadata": {},
   "source": [
    "Is dogA the same gender as dogB? (False)"
   ]
  },
  {
   "cell_type": "code",
   "execution_count": 54,
   "metadata": {},
   "outputs": [],
   "source": [
    "# Try it out here:\n"
   ]
  },
  {
   "cell_type": "markdown",
   "metadata": {},
   "source": [
    "Is dogA heavier than dogB and have a different name than dogB? (True)"
   ]
  },
  {
   "cell_type": "code",
   "execution_count": 55,
   "metadata": {},
   "outputs": [],
   "source": [
    "# Try it out here:\n"
   ]
  },
  {
   "cell_type": "markdown",
   "metadata": {},
   "source": [
    "Does dogA have a different age than dogB and not a different gender than dogB? (False)"
   ]
  },
  {
   "cell_type": "code",
   "execution_count": 58,
   "metadata": {},
   "outputs": [],
   "source": [
    "# Try it out here:\n"
   ]
  },
  {
   "cell_type": "code",
   "execution_count": null,
   "metadata": {},
   "outputs": [],
   "source": []
  }
 ],
 "metadata": {
  "celltoolbar": "Slideshow",
  "kernelspec": {
   "display_name": "Python 3",
   "language": "python",
   "name": "python3"
  },
  "language_info": {
   "codemirror_mode": {
    "name": "ipython",
    "version": 3
   },
   "file_extension": ".py",
   "mimetype": "text/x-python",
   "name": "python",
   "nbconvert_exporter": "python",
   "pygments_lexer": "ipython3",
   "version": "3.6.4"
  }
 },
 "nbformat": 4,
 "nbformat_minor": 2
}
