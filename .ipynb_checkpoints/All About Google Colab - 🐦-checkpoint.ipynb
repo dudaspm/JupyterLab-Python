{
 "cells": [
  {
   "cell_type": "markdown",
   "id": "0dfeabe5-c0e7-461c-a581-947fa8f40032",
   "metadata": {},
   "source": [
    "# All About Google Colab - 🐦"
   ]
  },
  {
   "cell_type": "markdown",
   "id": "7728c62f-6aba-4b2d-93c9-d4ea28003111",
   "metadata": {},
   "source": [
    "## Working with Data \n",
    "{cite:ps}`GoogleColaboratoryIO`\n"
   ]
  },
  {
   "cell_type": "markdown",
   "id": "e1cac43b-7d52-41ad-b6fc-4658342f1e51",
   "metadata": {},
   "source": [
    "### A Temporary Solution\n",
    "\n",
    "You can create and interactive with files when you access Google Colab, *BUT* they will disappear after your session ends. An example would be:"
   ]
  },
  {
   "cell_type": "code",
   "execution_count": 7,
   "id": "4e975039-2a42-48b7-afd3-9178bf188b47",
   "metadata": {},
   "outputs": [],
   "source": [
    "f = open(\"thanosSnapping.txt\", \"a\")\n",
    "f.write(\"you should've gone for the head\")\n",
    "f.close()"
   ]
  },
  {
   "cell_type": "markdown",
   "id": "eaef4a13-0c08-448c-86bf-6541be903aee",
   "metadata": {},
   "source": [
    "```{warning} \n",
    "Super serious here. \n",
    "If files are not written to your local machine or your Google Drive. They will be **gone** the next time you log-in.\n",
    "```"
   ]
  },
  {
   "cell_type": "markdown",
   "id": "2324db82-cc8f-45b9-ac4a-370e28233a54",
   "metadata": {},
   "source": [
    "We need a better solution for this. So, let's take a look at these options. "
   ]
  },
  {
   "cell_type": "markdown",
   "id": "cbf4acb2-0cfd-4d4e-8ae3-b19ff5c3f9d1",
   "metadata": {},
   "source": [
    "### Connecting to Your Google Drive\n",
    "\n",
    "There are two ways to connect to your Google Drive. \n",
    "\n",
    "#### Selecting the Icon to Connect\n",
    "\n",
    "```{image} https://raw.githubusercontent.com/dudaspm/JupyterLab-Python/main/images/connectToDrive.PNG\n",
    ":alt: Icon for Connecting to Google Colab\n",
    ":width: 400px\n",
    ":align: center\n",
    "```\n",
    "\n",
    "#### Connecting Using Google Colab Code\n",
    "\n",
    "```python\n",
    "from google.colab import drive\n",
    "drive.mount('/content/drive')\n",
    "```\n",
    "\n",
    "This will look something like this:\n",
    "\n",
    "```{image} https://raw.githubusercontent.com/dudaspm/JupyterLab-Python/main/images/googleColabConnect.PNG\n",
    ":alt: Connecting to Google Colab with Code\n",
    ":width: 500px\n",
    ":align: center\n",
    "```"
   ]
  },
  {
   "cell_type": "markdown",
   "id": "9441155f-5027-447f-bd41-ddd187af5cb6",
   "metadata": {},
   "source": [
    "#### I am Connected, Now What?\n",
    "\n",
    "It can be a bit difficult to figure out where to place files and where your files are located at in Google Colab. Once you connect you will need to navigate the folder structure to find your file. They did not make this very easy to find. Here is a quick screenshot.\n",
    "\n",
    "\n",
    "```{image} https://raw.githubusercontent.com/dudaspm/JupyterLab-Python/main/images/contentFolder.PNG\n",
    ":alt: file structure in Google Colab\n",
    ":width: 400px\n",
    ":align: center\n",
    "```"
   ]
  },
  {
   "cell_type": "markdown",
   "id": "c21c21a0-91eb-4327-b5b1-83b38ba2b164",
   "metadata": {
    "tags": [
     "hide-cell"
    ]
   },
   "source": [
    "### Connecting to Github\n",
    "Another way to work with data outside of your Google Drive is using something like GitHub. A bit of a warning before we begin."
   ]
  },
  {
   "cell_type": "markdown",
   "id": "198d5f4a-ec04-4cfd-a3ba-abe01554d794",
   "metadata": {},
   "source": [
    "```{warning}\n",
    "Github is open repository. Any file placed on Github is available for *ANYONE* to view, download, or edit. \n",
    "```"
   ]
  },
  {
   "cell_type": "markdown",
   "id": "2a3bb682-0775-48b5-b1c1-18e18a187f1a",
   "metadata": {},
   "source": [
    "Make sure you read of the terms of services as well! \n",
    "\n",
    "If you are interest in using Github, let me show the basics. \n",
    "\n",
    "#### Pushing and Pulling. "
   ]
  },
  {
   "cell_type": "code",
   "execution_count": null,
   "id": "99d464c5-4ef4-4d77-9e78-90db1b3bf5b6",
   "metadata": {},
   "outputs": [],
   "source": []
  }
 ],
 "metadata": {
  "kernelspec": {
   "display_name": "Python 3",
   "language": "python",
   "name": "python3"
  },
  "language_info": {
   "codemirror_mode": {
    "name": "ipython",
    "version": 3
   },
   "file_extension": ".py",
   "mimetype": "text/x-python",
   "name": "python",
   "nbconvert_exporter": "python",
   "pygments_lexer": "ipython3",
   "version": "3.8.5"
  }
 },
 "nbformat": 4,
 "nbformat_minor": 5
}
