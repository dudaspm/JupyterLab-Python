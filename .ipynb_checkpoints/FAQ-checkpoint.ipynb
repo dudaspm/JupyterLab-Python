{
 "cells": [
  {
   "cell_type": "markdown",
   "id": "1842bc7a-67f4-4361-8e16-f3f18168b5d8",
   "metadata": {},
   "source": [
    "# FAQ"
   ]
  },
  {
   "cell_type": "markdown",
   "id": "51614715-da25-44bf-8335-42d32f128a16",
   "metadata": {},
   "source": [
    "This is my attempt at capturing and anonymizing some of the great questions I have received at workshops. If you have any more clarification or other questions, please email at pmd19@psu.edu. "
   ]
  },
  {
   "cell_type": "markdown",
   "id": "78b461fd-4895-460f-83da-fd263e5b2270",
   "metadata": {},
   "source": [
    "> Q: If I use Google Colab, am I using Jupyter?\n",
    "\n",
    "> A: Yes, well, technically, you are using JupyterLab, but Google Colab is Google's version of JupyterLab. \n"
   ]
  },
  {
   "cell_type": "markdown",
   "id": "113602c4-a0dc-4418-8817-1f224e4d35d2",
   "metadata": {},
   "source": [
    ">Q: If we use the Microsoft version instead of the Google version, would that be equivalent?\n",
    "\n",
    ">A: Yes, Jupyter and JupyterLab, of all types (Google Colab, MS Azure Notebook, Binder, etc.), all use the same file format (.ipynb). They might have a slightly different look, but I can take my notebook from Google to Microsoft to Github to my computer. All would work the same.\n"
   ]
  },
  {
   "cell_type": "code",
   "execution_count": null,
   "id": "1de55689-baf0-49c0-9fdf-4b7fee5f8a58",
   "metadata": {},
   "outputs": [],
   "source": []
  }
 ],
 "metadata": {
  "kernelspec": {
   "display_name": "Python 3",
   "language": "python",
   "name": "python3"
  },
  "language_info": {
   "codemirror_mode": {
    "name": "ipython",
    "version": 3
   },
   "file_extension": ".py",
   "mimetype": "text/x-python",
   "name": "python",
   "nbconvert_exporter": "python",
   "pygments_lexer": "ipython3",
   "version": "3.8.5"
  }
 },
 "nbformat": 4,
 "nbformat_minor": 5
}
