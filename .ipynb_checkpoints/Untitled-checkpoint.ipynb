{
 "cells": [
  {
   "cell_type": "markdown",
   "id": "a6b8665a-e8b9-4cca-b32a-5f49bebbb1d5",
   "metadata": {},
   "source": [
    "# QIIMI 2.0"
   ]
  },
  {
   "cell_type": "code",
   "execution_count": 2,
   "id": "cd49a70d-83a0-4339-9b47-4fee407deb4c",
   "metadata": {},
   "outputs": [
    {
     "name": "stdout",
     "output_type": "stream",
     "text": [
      "conda 4.11.0\n"
     ]
    }
   ],
   "source": [
    "!conda --version"
   ]
  },
  {
   "cell_type": "code",
   "execution_count": 5,
   "id": "af6002cc-98fe-4f60-80b8-50517abecaf0",
   "metadata": {},
   "outputs": [
    {
     "name": "stdout",
     "output_type": "stream",
     "text": [
      "Collecting package metadata (current_repodata.json): ...working... done"
     ]
    },
    {
     "name": "stderr",
     "output_type": "stream",
     "text": [
      "\n",
      "PackagesNotFoundError: The following packages are not available from current channels:\n",
      "\n",
      "  - wget\n",
      "\n",
      "Current channels:\n",
      "\n",
      "  - https://conda.anaconda.org/conda-forge/win-64\n",
      "  - https://conda.anaconda.org/conda-forge/noarch\n",
      "  - https://repo.anaconda.com/pkgs/main/win-64\n",
      "  - https://repo.anaconda.com/pkgs/main/noarch\n",
      "  - https://repo.anaconda.com/pkgs/r/win-64\n",
      "  - https://repo.anaconda.com/pkgs/r/noarch\n",
      "  - https://repo.anaconda.com/pkgs/msys2/win-64\n",
      "  - https://repo.anaconda.com/pkgs/msys2/noarch\n",
      "\n",
      "To search for alternate channels that may provide the conda package you're\n",
      "looking for, navigate to\n",
      "\n",
      "    https://anaconda.org\n",
      "\n",
      "and use the search bar at the top of the page.\n",
      "\n",
      "\n"
     ]
    },
    {
     "name": "stdout",
     "output_type": "stream",
     "text": [
      "\n",
      "Solving environment: ...working... failed with initial frozen solve. Retrying with flexible solve.\n",
      "Collecting package metadata (repodata.json): ...working... done\n",
      "Solving environment: ...working... failed with initial frozen solve. Retrying with flexible solve.\n"
     ]
    }
   ],
   "source": [
    "!pip install wget"
   ]
  },
  {
   "cell_type": "code",
   "execution_count": 8,
   "id": "8f5c01f5-7ab0-4f4e-b46d-9c0953d61faa",
   "metadata": {},
   "outputs": [
    {
     "name": "stdout",
     "output_type": "stream",
     "text": [
      "^C\n"
     ]
    }
   ],
   "source": []
  },
  {
   "cell_type": "code",
   "execution_count": 7,
   "id": "6984febc-7871-4ca5-b7fa-6c8459956617",
   "metadata": {},
   "outputs": [
    {
     "name": "stderr",
     "output_type": "stream",
     "text": [
      "'wget' is not recognized as an internal or external command,\n",
      "operable program or batch file.\n"
     ]
    }
   ],
   "source": []
  },
  {
   "cell_type": "code",
   "execution_count": null,
   "id": "62b50fa5-10fe-4a67-ad0b-f561eda06cd6",
   "metadata": {},
   "outputs": [
    {
     "name": "stdout",
     "output_type": "stream",
     "text": [
      "436\n",
      "1 / 436\n",
      "1 / 436\n",
      "1 / 436\n",
      "1 / 436\n"
     ]
    }
   ],
   "source": [
    "import urllib.request\n",
    "from subprocess import Popen, PIPE\n",
    "\n",
    "url = \"https://data.qiime2.org/distro/core/qiime2-2021.11-py38-linux-conda.yml\"\n",
    "name = \"qiime2-2021.11-py38-linux-conda.yml\"\n",
    "urllib.request.urlretrieve(url, name)\n",
    "\n",
    "#https://stackoverflow.com/questions/7243750/download-file-from-web-in-python-3\n",
    "response = urllib.request.urlopen(url)\n",
    "data = response.read()\n",
    "text = data.decode('utf-8')\n",
    "\n",
    "trigger = 0\n",
    "dependencies = []\n",
    "for line in text.split(\"\\n\"):\n",
    "\n",
    "    if (trigger): \n",
    "        dependencies.append(line.strip()[2:]) \n",
    "    if (line==\"dependencies:\"): \n",
    "        trigger = 1\n",
    "\n",
    "print(len(dependencies))\n",
    "counter = 1\n",
    "for dependent in dependencies:\n",
    "    print (counter,\"/\",len(dependencies))\n",
    "    proc = Popen([\"conda\",\"install\",dependent], stdout=PIPE, shell=True)\n",
    "    (out, err) = proc.communicate()\n",
    "    Popen.terminate(proc)\n",
    "    counter = counter + 1\n",
    "print(out)\n",
    "    \n"
   ]
  },
  {
   "cell_type": "code",
   "execution_count": 13,
   "id": "a033fac4-e9b5-410d-bfdf-480f02212e01",
   "metadata": {},
   "outputs": [
    {
     "name": "stderr",
     "output_type": "stream",
     "text": [
      "ERROR: Invalid requirement: 'q2-quality-filter=2021.11.0'\n",
      "Hint: = is not a valid operator. Did you mean == ?\n"
     ]
    }
   ],
   "source": [
    "!conda install q2-quality-filter=2021.11.0"
   ]
  },
  {
   "cell_type": "code",
   "execution_count": 12,
   "id": "382b9f56-d73d-49d1-804a-d992a2cdc593",
   "metadata": {},
   "outputs": [
    {
     "name": "stdout",
     "output_type": "stream",
     "text": [
      "Collecting package metadata (repodata.json): ...working... done\n",
      "Solving environment: ...working... failed\n"
     ]
    },
    {
     "name": "stderr",
     "output_type": "stream",
     "text": [
      "\n",
      "ResolvePackageNotFound: \n",
      "  - q2-quality-filter=2021.11.0\n",
      "  - alsa-lib=1.2.3\n",
      "  - gfortran_impl_linux-64=9.4.0\n",
      "  - q2-fragment-insertion=2021.11.0\n",
      "  - unifrac=0.20.2\n",
      "  - perl-scalar-list-utils=1.52\n",
      "  - libstdcxx-ng=11.2.0\n",
      "  - q2-gneiss=2021.11.0\n",
      "  - q2-metadata=2021.11.0\n",
      "  - q2-quality-control=2021.11.0\n",
      "  - q2-mystery-stew=2021.11.0\n",
      "  - hmmer=3.1b2\n",
      "  - bioconductor-genomicranges=1.42.0\n",
      "  - libev=4.33\n",
      "  - q2-types=2021.11.0\n",
      "  - libgcc-ng=11.2.0\n",
      "  - q2cli=2021.11.0\n",
      "  - perl-types-serialiser=1.0\n",
      "  - libnsl=2.0.0\n",
      "  - bioconductor-rsamtools=2.6.0\n",
      "  - perl-compress-raw-zlib=2.087\n",
      "  - perl-json=4.02\n",
      "  - cutadapt=3.5\n",
      "  - q2-demux=2021.11.0\n",
      "  - bioconductor-biobase=2.50.0\n",
      "  - tktable=2.10\n",
      "  - scikit-bio=0.5.6\n",
      "  - gcc_impl_linux-64=9.4.0\n",
      "  - gxx_impl_linux-64=9.4.0\n",
      "  - blast=2.12.0\n",
      "  - gcc_linux-64=9.4.0\n",
      "  - samtools=1.14\n",
      "  - perl-archive-tar=2.18\n",
      "  - q2-emperor=2021.11.0\n",
      "  - emperor=1.0.3\n",
      "  - q2-diversity=2021.11.0\n",
      "  - gfortran_linux-64=9.4.0\n",
      "  - q2-composition=2021.11.0\n",
      "  - sepp=4.3.10\n",
      "  - q2-alignment=2021.11.0\n",
      "  - q2-deblur=2021.11.0\n",
      "  - q2-feature-table=2021.11.0\n",
      "  - perl-compress-raw-bzip2=2.087\n",
      "  - perl-common-sense=3.74\n",
      "  - libgomp=11.2.0\n",
      "  - libstdcxx-devel_linux-64=9.4.0\n",
      "  - libnghttp2=1.43.0\n",
      "  - sed=4.8\n",
      "  - perl-json-xs=2.34\n",
      "  - binutils_linux-64=2.36\n",
      "  - perl-list-moreutils=0.413\n",
      "  - q2-diversity-lib=2021.11.0\n",
      "  - bioconductor-delayedarray=0.16.3\n",
      "  - q2galaxy=2021.11.0\n",
      "  - hdmedians=0.14.2\n",
      "  - bioconductor-iranges=2.24.1\n",
      "  - bioconductor-dada2=1.18.0\n",
      "  - q2-vsearch=2021.11.0\n",
      "  - nss=3.72\n",
      "  - bioconductor-s4vectors=0.28.1\n",
      "  - perl-pathtools=3.75\n",
      "  - libgfortran5=11.2.0\n",
      "  - libxkbcommon=1.0.3\n",
      "  - bioconductor-xvector=0.30.0\n",
      "  - libedit=3.1.20191231\n",
      "  - pbzip2=1.1.13\n",
      "  - _openmp_mutex=4.5\n",
      "  - libuuid=2.32.1\n",
      "  - iqtree=2.1.4_beta\n",
      "  - fasttree=2.1.10\n",
      "  - raxml=8.2.12\n",
      "  - q2-phylogeny=2021.11.0\n",
      "  - q2-feature-classifier=2021.11.0\n",
      "  - perl-carp=1.38\n",
      "  - bioconductor-biostrings=2.58.0\n",
      "  - ld_impl_linux-64=2.36.1\n",
      "  - bioconductor-rhtslib=1.22.0\n",
      "  - q2-taxa=2021.11.0\n",
      "  - bioconductor-biocparallel=1.24.1\n",
      "  - perl-io-zlib=1.10\n",
      "  - readline=8.1\n",
      "  - dbus=1.13.6\n",
      "  - htslib=1.14\n",
      "  - sortmerna=2.0\n",
      "  - ncurses=6.2\n",
      "  - q2-dada2=2021.11.0\n",
      "  - q2-longitudinal=2021.11.0\n",
      "  - mafft=7.490\n",
      "  - perl-exporter-tiny=1.002001\n",
      "  - perl-threaded=5.26.0\n",
      "  - libgfortran-ng=11.2.0\n",
      "  - q2-cutadapt=2021.11.0\n",
      "  - bioconductor-shortread=1.48.0\n",
      "  - bioconductor-zlibbioc=1.36.0\n",
      "  - q2-sample-classifier=2021.11.0\n",
      "  - dnaio=0.6.0\n",
      "  - libgcc-devel_linux-64=9.4.0\n",
      "  - nspr=4.32\n",
      "  - qiime2=2021.11.0\n",
      "  - libsanitizer=9.4.0\n",
      "  - libgcc=7.2.0\n",
      "  - bowtie2=2.4.2\n",
      "  - q2templates=2021.11.0\n",
      "  - entrez-direct=16.2\n",
      "  - gxx_linux-64=9.4.0\n",
      "  - perl-io-compress=2.087\n",
      "  - bioconductor-genomicalignments=1.26.0\n",
      "  - vsearch=2.7.0\n",
      "  - binutils_impl_linux-64=2.36.1\n",
      "\n"
     ]
    }
   ],
   "source": [
    "!conda env create -n qiime2 --file qiime2-2021.11-py38-linux-conda.yml"
   ]
  },
  {
   "cell_type": "code",
   "execution_count": 32,
   "id": "7d9a1f87-9564-4ed2-a4b9-efa754997de7",
   "metadata": {},
   "outputs": [
    {
     "name": "stdout",
     "output_type": "stream",
     "text": [
      "program output: b'/c/Users/pmd19/OneDrive - The Pennsylvania State University/Documents/GitHub/JupyterLab-Python\\n'\n"
     ]
    }
   ],
   "source": [
    "\n",
    "print (\"program output:\", out)"
   ]
  },
  {
   "cell_type": "code",
   "execution_count": null,
   "id": "da29e407-05a2-4963-bcce-763c9c89e853",
   "metadata": {},
   "outputs": [],
   "source": []
  }
 ],
 "metadata": {
  "kernelspec": {
   "display_name": "Python 3",
   "language": "python",
   "name": "python3"
  },
  "language_info": {
   "codemirror_mode": {
    "name": "ipython",
    "version": 3
   },
   "file_extension": ".py",
   "mimetype": "text/x-python",
   "name": "python",
   "nbconvert_exporter": "python",
   "pygments_lexer": "ipython3",
   "version": "3.8.8"
  }
 },
 "nbformat": 4,
 "nbformat_minor": 5
}
