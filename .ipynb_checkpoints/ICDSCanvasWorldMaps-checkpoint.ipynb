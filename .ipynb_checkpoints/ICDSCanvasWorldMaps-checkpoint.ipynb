{
 "cells": [
  {
   "cell_type": "code",
   "execution_count": 1,
   "metadata": {
    "id": "bJMdAdouEMpf"
   },
   "outputs": [],
   "source": [
    "from IPython.display import  HTML\n",
    "\n",
    "def load_d3_in_cell_output():\n",
    "  display(HTML(\"<script src='https://d3js.org/d3.v6.min.js'></script><script src='https://d3js.org/d3-hexbin.v0.2.min.js'></script>\"))\n",
    "get_ipython().events.register('pre_run_cell', load_d3_in_cell_output)"
   ]
  },
  {
   "cell_type": "code",
   "execution_count": 5,
   "metadata": {
    "colab": {
     "base_uri": "https://localhost:8080/"
    },
    "id": "E-W_HbiWEPAv",
    "outputId": "852ff8ff-71bd-4b30-e9c6-21d822bce2a1"
   },
   "outputs": [
    {
     "data": {
      "text/html": [
       "<script src='https://d3js.org/d3.v6.min.js'></script><script src='https://d3js.org/d3-hexbin.v0.2.min.js'></script>"
      ],
      "text/plain": [
       "<IPython.core.display.HTML object>"
      ]
     },
     "metadata": {},
     "output_type": "display_data"
    },
    {
     "data": {
      "text/html": [
       "<canvas id=\"world1\">\n",
       "<script type=\"text/javascript\">   \n",
       "    \n",
       "    d3.json(\"https://gist.githubusercontent.com/dudaspm/3afeffc46bae9a8ecc776c06a3051370/raw/5ea64fe56a8d911203db457d71a580ac0fac6969/world.2.json\")\n",
       "        .then(function(us) {\n",
       "            var width = 1000\n",
       "            var height = 800\n",
       "\n",
       "            var margin = 0\n",
       "            var canvas = document.getElementsByTagName('canvas')[0];\n",
       "            canvas.width  = width;\n",
       "            canvas.height = height;\n",
       "            // Create the Mercator Projection\n",
       "            projectionUS = d3.geoOrthographic().rotate([-25,-20,20]).fitExtent([[margin, margin], [width - margin, height - margin]], us)\n",
       "            // Create a function to generate our paths (counties)\n",
       "            pathGeneratorUS = d3.geoPath().projection(projectionUS)\n",
       "                var ctx = canvas.getContext(\"2d\");\n",
       "                \n",
       "                ctx.clearRect(0, 0, width, height);\n",
       "                for (let i = 0; i < us.features.length; i++) {\n",
       "                  d = us.features[i]\n",
       "                  ctx.beginPath();\n",
       "                  let path2 = new Path2D(pathGeneratorUS(d))\n",
       "                  ctx.stroke(path2)\n",
       "                  ctx.closePath()\n",
       "                }\n",
       "                \n",
       "            \n",
       "        })\n",
       "        .catch(function(error){\n",
       "            console.log(error)\n",
       "        })\n",
       "    \n",
       "</script>\n"
      ],
      "text/plain": [
       "<IPython.core.display.HTML object>"
      ]
     },
     "metadata": {},
     "output_type": "display_data"
    }
   ],
   "source": [
    "%%html\n",
    "<canvas id=\"world1\">\n",
    "<script type=\"text/javascript\">   \n",
    "    \n",
    "    d3.json(\"https://gist.githubusercontent.com/dudaspm/3afeffc46bae9a8ecc776c06a3051370/raw/5ea64fe56a8d911203db457d71a580ac0fac6969/world.2.json\")\n",
    "        .then(function(us) {\n",
    "            var width = 1000\n",
    "            var height = 800\n",
    "\n",
    "            var margin = 0\n",
    "            var canvas = document.getElementsByTagName('canvas')[0];\n",
    "            canvas.width  = width;\n",
    "            canvas.height = height;\n",
    "            // Create the Mercator Projection\n",
    "            projectionUS = d3.geoOrthographic().rotate([-25,-20,20]).fitExtent([[margin, margin], [width - margin, height - margin]], us)\n",
    "            // Create a function to generate our paths (counties)\n",
    "            pathGeneratorUS = d3.geoPath().projection(projectionUS)\n",
    "                var ctx = canvas.getContext(\"2d\");\n",
    "                \n",
    "                ctx.clearRect(0, 0, width, height);\n",
    "                for (let i = 0; i < us.features.length; i++) {\n",
    "                  d = us.features[i]\n",
    "                  ctx.beginPath();\n",
    "                  let path2 = new Path2D(pathGeneratorUS(d))\n",
    "                  ctx.stroke(path2)\n",
    "                  ctx.closePath()\n",
    "                }\n",
    "                \n",
    "            \n",
    "        })\n",
    "        .catch(function(error){\n",
    "            console.log(error)\n",
    "        })\n",
    "    \n",
    "</script>\n"
   ]
  },
  {
   "cell_type": "code",
   "execution_count": 6,
   "metadata": {
    "colab": {
     "base_uri": "https://localhost:8080/",
     "height": 821
    },
    "id": "ndNiD4A9GwgR",
    "outputId": "97d1abc5-70bd-4e44-fe8f-e98f5d5ca175"
   },
   "outputs": [
    {
     "data": {
      "text/html": [
       "<script src='https://d3js.org/d3.v6.min.js'></script><script src='https://d3js.org/d3-hexbin.v0.2.min.js'></script>"
      ],
      "text/plain": [
       "<IPython.core.display.HTML object>"
      ]
     },
     "metadata": {},
     "output_type": "display_data"
    },
    {
     "data": {
      "text/html": [
       "<canvas id=\"world2\">\n",
       "<script type=\"text/javascript\">   \n",
       "    \n",
       "    d3.json(\"https://gist.githubusercontent.com/dudaspm/3afeffc46bae9a8ecc776c06a3051370/raw/5ea64fe56a8d911203db457d71a580ac0fac6969/world.2.json\")\n",
       "        .then(function(us) {\n",
       "            var width = 1000\n",
       "            var height = 800\n",
       "\n",
       "            var margin = 0\n",
       "            var canvas = document.getElementsByTagName('canvas')[0];\n",
       "            canvas.width  = width;\n",
       "            canvas.height = height;\n",
       "            // Create the Mercator Projection\n",
       "            projectionUS = d3.geoOrthographic().rotate([-25,-20,20]).fitExtent([[margin, margin], [width - margin, height - margin]], us)\n",
       "            // Create a function to generate our paths (counties)\n",
       "            pathGeneratorUS = d3.geoPath().projection(projectionUS)\n",
       "            var ctx = canvas.getContext(\"2d\");\n",
       "            var points = []\n",
       "            for (let i = 0; i < us.features.length; i++) {\n",
       "              d = us.features[i]\n",
       "              \n",
       "              if (pathGeneratorUS(d) !== null) {\n",
       "                var path = pathGeneratorUS(d).replace(\"M\",\"\").replace(\"Z\",\"\").split(\"L\")\n",
       "                for (let j = 0; j < path.length; j++) {\n",
       "                  points.push([+path[j].split(\",\")[0],+path[j].split(\",\")[1]])\n",
       "                }\n",
       "              }\n",
       "\n",
       "            }\n",
       "            \n",
       "            var voronoi = d3.Delaunay\n",
       "              .from(points, d => d[0], d => d[1])\n",
       "              .voronoi([0, 0, width, height]);\n",
       "\n",
       "            ctx.clearRect(0, 0, width, height);\n",
       "            for (let i = 0; i < points.length; i++) {\n",
       "              ctx.beginPath();\n",
       "              let path2 = new Path2D(voronoi.renderCell(i))\n",
       "              ctx.stroke(path2)\n",
       "              ctx.closePath()\n",
       "            }\n",
       "        })\n",
       "        .catch(function(error){\n",
       "            console.log(error)\n",
       "        })\n",
       "    \n",
       "</script>\n"
      ],
      "text/plain": [
       "<IPython.core.display.HTML object>"
      ]
     },
     "metadata": {},
     "output_type": "display_data"
    }
   ],
   "source": [
    "%%html\n",
    "<canvas id=\"world2\">\n",
    "<script type=\"text/javascript\">   \n",
    "    \n",
    "    d3.json(\"https://gist.githubusercontent.com/dudaspm/3afeffc46bae9a8ecc776c06a3051370/raw/5ea64fe56a8d911203db457d71a580ac0fac6969/world.2.json\")\n",
    "        .then(function(us) {\n",
    "            var width = 1000\n",
    "            var height = 800\n",
    "\n",
    "            var margin = 0\n",
    "            var canvas = document.getElementsByTagName('canvas')[0];\n",
    "            canvas.width  = width;\n",
    "            canvas.height = height;\n",
    "            // Create the Mercator Projection\n",
    "            projectionUS = d3.geoOrthographic().rotate([-25,-20,20]).fitExtent([[margin, margin], [width - margin, height - margin]], us)\n",
    "            // Create a function to generate our paths (counties)\n",
    "            pathGeneratorUS = d3.geoPath().projection(projectionUS)\n",
    "            var ctx = canvas.getContext(\"2d\");\n",
    "            var points = []\n",
    "            for (let i = 0; i < us.features.length; i++) {\n",
    "              d = us.features[i]\n",
    "              \n",
    "              if (pathGeneratorUS(d) !== null) {\n",
    "                var path = pathGeneratorUS(d).replace(\"M\",\"\").replace(\"Z\",\"\").split(\"L\")\n",
    "                for (let j = 0; j < path.length; j++) {\n",
    "                  points.push([+path[j].split(\",\")[0],+path[j].split(\",\")[1]])\n",
    "                }\n",
    "              }\n",
    "\n",
    "            }\n",
    "            \n",
    "            var voronoi = d3.Delaunay\n",
    "              .from(points, d => d[0], d => d[1])\n",
    "              .voronoi([0, 0, width, height]);\n",
    "\n",
    "            ctx.clearRect(0, 0, width, height);\n",
    "            for (let i = 0; i < points.length; i++) {\n",
    "              ctx.beginPath();\n",
    "              let path2 = new Path2D(voronoi.renderCell(i))\n",
    "              ctx.stroke(path2)\n",
    "              ctx.closePath()\n",
    "            }\n",
    "        })\n",
    "        .catch(function(error){\n",
    "            console.log(error)\n",
    "        })\n",
    "    \n",
    "</script>\n"
   ]
  },
  {
   "cell_type": "code",
   "execution_count": 7,
   "metadata": {
    "colab": {
     "base_uri": "https://localhost:8080/"
    },
    "id": "vmYLz_0XMqwz",
    "outputId": "137b894b-387f-4299-a6e9-d105f3cd8b75"
   },
   "outputs": [
    {
     "data": {
      "text/html": [
       "<script src='https://d3js.org/d3.v6.min.js'></script><script src='https://d3js.org/d3-hexbin.v0.2.min.js'></script>"
      ],
      "text/plain": [
       "<IPython.core.display.HTML object>"
      ]
     },
     "metadata": {},
     "output_type": "display_data"
    },
    {
     "data": {
      "text/html": [
       "<canvas id=\"world3\">\n",
       "<script type=\"text/javascript\">   \n",
       "    \n",
       "    d3.json(\"https://gist.githubusercontent.com/dudaspm/3afeffc46bae9a8ecc776c06a3051370/raw/5ea64fe56a8d911203db457d71a580ac0fac6969/world.2.json\")\n",
       "        .then(function(us) {\n",
       "            var width = 1000\n",
       "            var height = 800\n",
       "\n",
       "            var margin = 0\n",
       "            var canvas = document.getElementsByTagName('canvas')[0];\n",
       "            canvas.width  = width;\n",
       "            canvas.height = height;\n",
       "            // Create the Mercator Projection\n",
       "            projectionUS = d3.geoOrthographic().rotate([-25,-20,20]).fitExtent([[margin, margin], [width - margin, height - margin]], us)\n",
       "            // Create a function to generate our paths (counties)\n",
       "            pathGeneratorUS = d3.geoPath().projection(projectionUS)\n",
       "            var ctx = canvas.getContext(\"2d\");\n",
       "            var points = []\n",
       "            for (let i = 0; i < us.features.length; i++) {\n",
       "              d = us.features[i]\n",
       "              \n",
       "              if (pathGeneratorUS(d) !== null) {\n",
       "                var path = pathGeneratorUS(d).replace(\"M\",\"\").replace(\"Z\",\"\").split(\"L\")\n",
       "                for (let j = 0; j < path.length; j++) {\n",
       "                  points.push([+path[j].split(\",\")[0],+path[j].split(\",\")[1]])\n",
       "                }\n",
       "              }\n",
       "\n",
       "            }\n",
       "            var hexbin = d3.hexbin()\n",
       "              .radius(3.5)\n",
       "              .extent([[0, 0], [width, height]]);\n",
       "\n",
       "            ctx.clearRect(0, 0, width, height);\n",
       "            for (let i = 0; i < hexbin(points).length; i++) {\n",
       "              d = hexbin(points)[i]\n",
       "              //console.log(d)\n",
       "              ctx.beginPath();\n",
       "              var path2 = hexbin.hexagon().replace(\"m\",\"\").replace(\"z\",\"\").split(\"l\")\n",
       "              var path = []\n",
       "              for (let j = 0; j < path2.length; j++) {\n",
       "\n",
       "                path.push([+path2[j].split(\",\")[0] + d.x, +path2[j].split(\",\")[1] + d.y])\n",
       "                //console.log(path[j].split(\",\")[0],path[j].split(\",\")[1])\n",
       "              }\n",
       "              //console.log(\"sdf\")\n",
       "              //console.log(path2)\n",
       "              var s = \"M\" + (path[0][0]+3) + \",\" + (path[0][1]+1.5)\n",
       "              for (let j = 1; j < path.length-1; j++) s = s + \"L\" + path[j][0] + \",\" + path[j][1]\n",
       "              s = s + \"L\" + path[path.length-1][0] + \",\" + path[path.length-1][1] + \"Z\"\n",
       "              //console.log(s)\n",
       "              let path3 = new Path2D(s)\n",
       "              ctx.fillStyle = \"#88B04B\"\n",
       "              ctx.fill(path3)\n",
       "              ctx.closePath()\n",
       "              //sadf\n",
       "            }\n",
       "        })\n",
       "        .catch(function(error){\n",
       "            console.log(error)\n",
       "        })\n",
       "    \n",
       "</script>\n"
      ],
      "text/plain": [
       "<IPython.core.display.HTML object>"
      ]
     },
     "metadata": {},
     "output_type": "display_data"
    }
   ],
   "source": [
    "%%html\n",
    "<canvas id=\"world3\">\n",
    "<script type=\"text/javascript\">   \n",
    "    \n",
    "    d3.json(\"https://gist.githubusercontent.com/dudaspm/3afeffc46bae9a8ecc776c06a3051370/raw/5ea64fe56a8d911203db457d71a580ac0fac6969/world.2.json\")\n",
    "        .then(function(us) {\n",
    "            var width = 1000\n",
    "            var height = 800\n",
    "\n",
    "            var margin = 0\n",
    "            var canvas = document.getElementsByTagName('canvas')[0];\n",
    "            canvas.width  = width;\n",
    "            canvas.height = height;\n",
    "            // Create the Mercator Projection\n",
    "            projectionUS = d3.geoOrthographic().rotate([-25,-20,20]).fitExtent([[margin, margin], [width - margin, height - margin]], us)\n",
    "            // Create a function to generate our paths (counties)\n",
    "            pathGeneratorUS = d3.geoPath().projection(projectionUS)\n",
    "            var ctx = canvas.getContext(\"2d\");\n",
    "            var points = []\n",
    "            for (let i = 0; i < us.features.length; i++) {\n",
    "              d = us.features[i]\n",
    "              \n",
    "              if (pathGeneratorUS(d) !== null) {\n",
    "                var path = pathGeneratorUS(d).replace(\"M\",\"\").replace(\"Z\",\"\").split(\"L\")\n",
    "                for (let j = 0; j < path.length; j++) {\n",
    "                  points.push([+path[j].split(\",\")[0],+path[j].split(\",\")[1]])\n",
    "                }\n",
    "              }\n",
    "\n",
    "            }\n",
    "            var hexbin = d3.hexbin()\n",
    "              .radius(3.5)\n",
    "              .extent([[0, 0], [width, height]]);\n",
    "\n",
    "            ctx.clearRect(0, 0, width, height);\n",
    "            for (let i = 0; i < hexbin(points).length; i++) {\n",
    "              d = hexbin(points)[i]\n",
    "              //console.log(d)\n",
    "              ctx.beginPath();\n",
    "              var path2 = hexbin.hexagon().replace(\"m\",\"\").replace(\"z\",\"\").split(\"l\")\n",
    "              var path = []\n",
    "              for (let j = 0; j < path2.length; j++) {\n",
    "\n",
    "                path.push([+path2[j].split(\",\")[0] + d.x, +path2[j].split(\",\")[1] + d.y])\n",
    "                //console.log(path[j].split(\",\")[0],path[j].split(\",\")[1])\n",
    "              }\n",
    "              //console.log(\"sdf\")\n",
    "              //console.log(path2)\n",
    "              var s = \"M\" + (path[0][0]+3) + \",\" + (path[0][1]+1.5)\n",
    "              for (let j = 1; j < path.length-1; j++) s = s + \"L\" + path[j][0] + \",\" + path[j][1]\n",
    "              s = s + \"L\" + path[path.length-1][0] + \",\" + path[path.length-1][1] + \"Z\"\n",
    "              //console.log(s)\n",
    "              let path3 = new Path2D(s)\n",
    "              ctx.fillStyle = \"#88B04B\"\n",
    "              ctx.fill(path3)\n",
    "              ctx.closePath()\n",
    "              //sadf\n",
    "            }\n",
    "        })\n",
    "        .catch(function(error){\n",
    "            console.log(error)\n",
    "        })\n",
    "    \n",
    "</script>\n"
   ]
  },
  {
   "cell_type": "code",
   "execution_count": 103,
   "metadata": {
    "id": "HQG1tTZRTqUx"
   },
   "outputs": [],
   "source": []
  }
 ],
 "metadata": {
  "colab": {
   "collapsed_sections": [],
   "name": "ICDSCanvasWorldMaps.ipynb",
   "provenance": []
  },
  "kernelspec": {
   "display_name": "Python 3",
   "language": "python",
   "name": "python3"
  },
  "language_info": {
   "codemirror_mode": {
    "name": "ipython",
    "version": 3
   },
   "file_extension": ".py",
   "mimetype": "text/x-python",
   "name": "python",
   "nbconvert_exporter": "python",
   "pygments_lexer": "ipython3",
   "version": "3.8.5"
  }
 },
 "nbformat": 4,
 "nbformat_minor": 4
}
