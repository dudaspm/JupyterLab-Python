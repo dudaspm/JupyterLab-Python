{
 "cells": [
  {
   "cell_type": "markdown",
   "metadata": {
    "slideshow": {
     "slide_type": "slide"
    }
   },
   "source": [
    "# Comparison Operators"
   ]
  },
  {
   "cell_type": "markdown",
   "metadata": {
    "slideshow": {
     "slide_type": "slide"
    }
   },
   "source": [
    "We need to be able to compare different variables.  We will be working on:\n",
    "* Are these things the same?\n",
    "* Are these things not the same?\n",
    "* How do these things compare?\n",
    "\n",
    "We can compare any data type, and our output will be a boolean (True or False).  The other things we will cover are:\n",
    "* Comparing different data types\n",
    "* Making multiple comparisons at once\n",
    "\n",
    "Comparison operators are important on their own (how do these things compare?) and are also useful for sorting and switching (see the next notebook.) "
   ]
  },
  {
   "cell_type": "markdown",
   "metadata": {
    "slideshow": {
     "slide_type": "slide"
    }
   },
   "source": [
    "## Are these things the same?"
   ]
  },
  {
   "cell_type": "markdown",
   "metadata": {
    "slideshow": {
     "slide_type": "fragment"
    }
   },
   "source": [
    "### Numeric Comparisons\n",
    "We have already initiated variables by setting something equal to something else - let's do that here by setting kitten 🐈 equal to 10 and then setting dog 🐕 equal to kitten 🐈. Finally, 🐝 bee will be equal to 11. \n",
    "\n",
    "So...\n",
    "\n",
    "🐈 = 10\n",
    "\n",
    "🐕 = 🐈\n",
    "\n",
    "🐝 = 11"
   ]
  },
  {
   "cell_type": "code",
   "execution_count": 1,
   "metadata": {
    "slideshow": {
     "slide_type": "fragment"
    }
   },
   "outputs": [
    {
     "name": "stdout",
     "output_type": "stream",
     "text": [
      "kitten = 10 ; dog = 10 ; bee =  11\n"
     ]
    }
   ],
   "source": [
    "kitten = 10\n",
    "dog = kitten\n",
    "bee = 11 \n",
    "\n",
    "print( \"kitten =\", kitten, \"; dog =\", dog, \"; bee = \", bee )"
   ]
  },
  {
   "cell_type": "markdown",
   "metadata": {
    "slideshow": {
     "slide_type": "slide"
    }
   },
   "source": [
    "The first comparison operator is '==' which tests to see if two variables are equal. "
   ]
  },
  {
   "cell_type": "code",
   "execution_count": 2,
   "metadata": {
    "slideshow": {
     "slide_type": "fragment"
    }
   },
   "outputs": [
    {
     "name": "stdout",
     "output_type": "stream",
     "text": [
      "kitten = 10 ; dog = 10 ; bee =  11\n",
      "Is kitten equal to dog?\n",
      "True\n",
      "Is kitten equal to bee?\n",
      "False\n"
     ]
    }
   ],
   "source": [
    "print( \"kitten =\", kitten, \"; dog =\", dog, \"; bee = \", bee )\n",
    "\n",
    "print( \"Is kitten equal to dog?\")\n",
    "print( kitten == dog )\n",
    "\n",
    "print( \"Is kitten equal to bee?\")\n",
    "print( kitten == bee )"
   ]
  },
  {
   "cell_type": "markdown",
   "metadata": {
    "slideshow": {
     "slide_type": "fragment"
    }
   },
   "source": [
    "This tells us that kitten is equal to dog, because it returns *True* and kitten is not equal to bee, as that returns *False*."
   ]
  },
  {
   "cell_type": "markdown",
   "metadata": {},
   "source": [
    "### Character Comparisons\n",
    "We can also do comparisons with other variable types.  Here's an example with strings instead of integers.\n",
    "\n",
    "Let's think about some foods, how about:\n",
    "\n",
    "- food1 = 🍎\n",
    "- food2 = 🍪\n",
    "- food3 = 🍎"
   ]
  },
  {
   "cell_type": "code",
   "execution_count": 3,
   "metadata": {},
   "outputs": [
    {
     "name": "stdout",
     "output_type": "stream",
     "text": [
      "food1= apple ; food2 = cookie ; food3 =  apple\n",
      "Is food1 equal to food2?\n",
      "False\n",
      "Is food1 equal to food3?\n",
      "True\n"
     ]
    }
   ],
   "source": [
    "food1 = 'apple'\n",
    "food2 = 'cookie'\n",
    "food3 = 'apple' \n",
    "print( \"food1=\", food1,\"; food2 =\", food2,\"; food3 = \", food3 )\n",
    "\n",
    "print( \"Is food1 equal to food2?\")\n",
    "print( food1 == food2 )\n",
    "\n",
    "print( \"Is food1 equal to food3?\")\n",
    "print( food1 == food3 )"
   ]
  },
  {
   "cell_type": "markdown",
   "metadata": {},
   "source": [
    "## Are these things different?"
   ]
  },
  {
   "cell_type": "markdown",
   "metadata": {
    "slideshow": {
     "slide_type": "slide"
    }
   },
   "source": [
    "### Logical... NOT!\n",
    "We can also test to see if two values are not equal using the '!=' operator."
   ]
  },
  {
   "cell_type": "code",
   "execution_count": 4,
   "metadata": {
    "slideshow": {
     "slide_type": "fragment"
    }
   },
   "outputs": [
    {
     "name": "stdout",
     "output_type": "stream",
     "text": [
      "food1= apple ; food2 = cookie ; food3 =  apple\n",
      "Is food1 not equal to food2?\n",
      "True\n",
      "Is food1 not equal to food3?\n",
      "False\n"
     ]
    }
   ],
   "source": [
    "print( \"food1=\", food1,\"; food2 =\", food2,\"; food3 = \", food3 )\n",
    "\n",
    "print( \"Is food1 not equal to food2?\")\n",
    "print( food1 != food2 )\n",
    "\n",
    "print( \"Is food1 not equal to food3?\")\n",
    "print( food1 != food3 )"
   ]
  },
  {
   "cell_type": "markdown",
   "metadata": {
    "slideshow": {
     "slide_type": "fragment"
    }
   },
   "source": [
    "This gives us the opposite of what we had before.  \n",
    "\n",
    "So, what did we learn?\n",
    "\n",
    "🍎 == 🍎 = *True*\n",
    "\n",
    "🍎 != 🍪 = *True*"
   ]
  },
  {
   "cell_type": "markdown",
   "metadata": {},
   "source": [
    "## How do these things compare?"
   ]
  },
  {
   "cell_type": "markdown",
   "metadata": {
    "slideshow": {
     "slide_type": "slide"
    }
   },
   "source": [
    "### Math Comparisons 101\n",
    "We can also compare the magnitude of values using '<', '<=', '>'and '>=', which will return 'True' if the condition is being met."
   ]
  },
  {
   "cell_type": "code",
   "execution_count": 5,
   "metadata": {},
   "outputs": [
    {
     "name": "stdout",
     "output_type": "stream",
     "text": [
      "kitten = 10 ; dog = 10 ; bee =  11\n"
     ]
    }
   ],
   "source": [
    "print( \"kitten =\", kitten, \"; dog =\", dog, \"; bee = \", bee )"
   ]
  },
  {
   "cell_type": "code",
   "execution_count": 6,
   "metadata": {
    "slideshow": {
     "slide_type": "subslide"
    }
   },
   "outputs": [
    {
     "name": "stdout",
     "output_type": "stream",
     "text": [
      "Is kitten less than dog?\n",
      "False\n",
      "Is kitten less than or equal to dog?\n",
      "True\n",
      "Is kitten greater than or equal to dog?\n",
      "True\n",
      "Is kitten greater than dog?\n",
      "False\n"
     ]
    }
   ],
   "source": [
    "print( \"Is kitten less than dog?\")\n",
    "print( kitten < dog )\n",
    "\n",
    "print( \"Is kitten less than or equal to dog?\")\n",
    "print( kitten <= dog )\n",
    "\n",
    "print( \"Is kitten greater than or equal to dog?\")\n",
    "print( kitten >= dog )\n",
    "\n",
    "print( \"Is kitten greater than dog?\")\n",
    "print( kitten > dog )"
   ]
  },
  {
   "cell_type": "markdown",
   "metadata": {
    "slideshow": {
     "slide_type": "slide"
    }
   },
   "source": [
    "```{warning}\n",
    "We do have to watch out for our types. Characters and numerics are **NOT** the same.\n",
    "```\n"
   ]
  },
  {
   "cell_type": "code",
   "execution_count": 7,
   "metadata": {
    "slideshow": {
     "slide_type": "subslide"
    }
   },
   "outputs": [
    {
     "ename": "NameError",
     "evalue": "name 'aVar' is not defined",
     "output_type": "error",
     "traceback": [
      "\u001b[1;31m---------------------------------------------------------------------------\u001b[0m",
      "\u001b[1;31mNameError\u001b[0m                                 Traceback (most recent call last)",
      "\u001b[1;32m<ipython-input-7-d9e906cfebe7>\u001b[0m in \u001b[0;36m<module>\u001b[1;34m\u001b[0m\n\u001b[0;32m      1\u001b[0m \u001b[0maStr\u001b[0m \u001b[1;33m=\u001b[0m \u001b[1;34m'10'\u001b[0m\u001b[1;33m\u001b[0m\u001b[1;33m\u001b[0m\u001b[0m\n\u001b[0;32m      2\u001b[0m \u001b[0maFlt\u001b[0m \u001b[1;33m=\u001b[0m \u001b[1;36m10.0\u001b[0m\u001b[1;33m\u001b[0m\u001b[1;33m\u001b[0m\u001b[0m\n\u001b[1;32m----> 3\u001b[1;33m \u001b[0mprint\u001b[0m\u001b[1;33m(\u001b[0m \u001b[1;34m\"aVar=\"\u001b[0m\u001b[1;33m,\u001b[0m \u001b[0maVar\u001b[0m\u001b[1;33m,\u001b[0m \u001b[1;34m\"; aStr =\"\u001b[0m\u001b[1;33m,\u001b[0m \u001b[0maStr\u001b[0m\u001b[1;33m,\u001b[0m \u001b[1;34m\"; aFlt =\"\u001b[0m\u001b[1;33m,\u001b[0m \u001b[0maFlt\u001b[0m  \u001b[1;33m)\u001b[0m\u001b[1;33m\u001b[0m\u001b[1;33m\u001b[0m\u001b[0m\n\u001b[0m\u001b[0;32m      4\u001b[0m \u001b[1;33m\u001b[0m\u001b[0m\n\u001b[0;32m      5\u001b[0m \u001b[1;31m# Is aVar equal to aStr?\u001b[0m\u001b[1;33m\u001b[0m\u001b[1;33m\u001b[0m\u001b[1;33m\u001b[0m\u001b[0m\n",
      "\u001b[1;31mNameError\u001b[0m: name 'aVar' is not defined"
     ]
    }
   ],
   "source": [
    "aStr = '10'\n",
    "aFlt = 10.0\n",
    "print( \"aVar=\", aVar, \"; aStr =\", aStr, \"; aFlt =\", aFlt  )\n",
    "\n",
    "# Is aVar equal to aStr?\n",
    "print( \"\\n#-# Is aVar equal to aStr?\")\n",
    "print( aVar == aStr )\n",
    "print( \"aVar type is \", type( aVar ), \"; and aStr type is \", type( aStr ) )\n",
    "\n",
    "# Is aVar equal to aFlt?\n",
    "print( \"\\n#-# Is aVar equal to aFlt?\")\n",
    "print( aVar == aFlt)"
   ]
  },
  {
   "cell_type": "markdown",
   "metadata": {},
   "source": [
    "We can compare integers and floats (!) but not other disparate data types.\n",
    "\n",
    "If you let python take care of your data-types, be warned that they could be different from what you think they are!"
   ]
  },
  {
   "cell_type": "markdown",
   "metadata": {},
   "source": [
    "## Toy (Car) Problem\n",
    "\n",
    "To start thinking of these concepts from a logical perspective, let's create a toy (car) problem. Here are a bunch of either toy cars with various colors and costs.  Here is how they labeled.\n",
    "\n",
    "auto:\n",
    "- car\n",
    "- truck\n",
    "\n",
    "color:\n",
    "- red\n",
    "- blue\n",
    "- yellow\n",
    "- white\n",
    "- black\n",
    "\n",
    "cost:\n",
    "- 1 <= cost <= 5"
   ]
  },
  {
   "cell_type": "code",
   "execution_count": 7,
   "metadata": {
    "tags": [
     "remove-input"
    ]
   },
   "outputs": [],
   "source": [
    "from IPython.display import  HTML\n",
    "\n",
    "def load_d3_in_cell_output():\n",
    "  display(HTML(\"<script src='https://d3js.org/d3.v6.min.js'></script>\"))\n",
    "get_ipython().events.register('pre_run_cell', load_d3_in_cell_output)"
   ]
  },
  {
   "cell_type": "code",
   "execution_count": 159,
   "metadata": {
    "tags": [
     "remove-input"
    ]
   },
   "outputs": [
    {
     "data": {
      "text/html": [
       "<script src='https://d3js.org/d3.v6.min.js'></script>"
      ],
      "text/plain": [
       "<IPython.core.display.HTML object>"
      ]
     },
     "metadata": {},
     "output_type": "display_data"
    },
    {
     "data": {
      "text/html": [
       "<div id=\"pick1\"></div>\n",
       "<label for=\"query\">Python:</label>\n",
       "<input type=\"text\" id=\"query\" name=\"query\" autocomplete=\"off\" value='auto == \"car\"''>\n",
       "<input type=\"button\" value=\"search\" onclick=\"queryData(document.getElementById('query').value)\">\n",
       "<script>\n",
       "    var svg, data; \n",
       "    function createAutos() {\n",
       "        var width = 600\n",
       "        var height = 400\n",
       "        var col = 6\n",
       "        var row = 4\n",
       "        svg = d3.select(\"div#pick1\").append(\"svg\")\n",
       "            .attr(\"width\", width)\n",
       "            .attr(\"height\", height)\n",
       "        var autos = [\"car\",\"truck\"]\n",
       "        var colors = [\"red\", \"blue\", \"yellow\", \"white\", \"black\"]\n",
       "        var shapes = []\n",
       "        shapes.push([[0,.4],[0,.6],[.25,.8],[.75,.8],[1,.6],[1,.4]])\n",
       "        shapes.push([[0,.4],[0,.7],[.6,.7],[.6,.9],[.8,.9],[1,.7],[1,.4]])\n",
       "        data = d3.range(col*row).map((d,i)=> {  \n",
       "            a = Math.floor(Math.random() * autos.length)\n",
       "            return ({\"auto\":autos[a],\n",
       "            \"shape\":shapes[a],\n",
       "            \"color\":colors[Math.floor(Math.random() * colors.length)],\n",
       "            \"cost\":+Math.ceil(Math.random() * 5),\n",
       "            \"id\":\"auto_\"+i})\n",
       "            })\n",
       "\n",
       "        var xScale = d3.scaleLinear().range([5,(width/col)-5]).domain([0,1])\n",
       "        var yScale = d3.scaleLinear().range([(height/row)-10, 10]).domain([0,1])\n",
       "        var line = d3.line()\n",
       "            .x((d,i)=> xScale(d[0])) \n",
       "            .y((d,i)=> yScale(d[1])) \n",
       "            .curve(d3.curveLinearClosed)\n",
       "        var g = svg.selectAll(\"g\").data(data)\n",
       "            .join(\"g\")\n",
       "            .attr(\"transform\", (d,i) => { \n",
       "                return \"translate(\" + ((width/col)*Math.floor(i/row)) +\",\"+ ((height/row)*(i%row)) +\")\"\n",
       "            })\n",
       "\n",
       "        g.selectAll(\"path\")\n",
       "            .data(d=>[d])\n",
       "            .join(\"path\")\n",
       "            .attr(\"id\",d=>d.id)\n",
       "            .attr(\"d\", d => line(d.shape))\n",
       "            .style(\"stroke\", \"black\")\n",
       "            .style(\"stroke-width\", 3) \n",
       "            .style(\"fill\", d => d.color)\n",
       "\n",
       "        g.selectAll(\"circle#tire1\").data(d=>[d]).join(\"circle\")\n",
       "            .attr(\"id\",\"tire1\")\n",
       "            .attr(\"cx\", xScale(.2))\n",
       "            .attr(\"cy\", yScale(.4))\n",
       "            .attr(\"r\",width/(col*10))  \n",
       "\n",
       "        g.selectAll(\"circle#tire2\").data(d=>[d]).join(\"circle\")\n",
       "            .attr(\"id\",\"tire2\")\n",
       "            .attr(\"cx\", xScale(.8))\n",
       "            .attr(\"cy\", yScale(.4))\n",
       "            .attr(\"r\",width/(col*10))    \n",
       "\n",
       "        g.selectAll(\"text#cost\").data(d=>[d]).join(\"text\")\n",
       "            .attr(\"id\",\"cost\")\n",
       "            .attr(\"x\", (width/col)/2)\n",
       "            .attr(\"y\", 10)\n",
       "            .style(\"text-anchor\",\"middle\")\n",
       "            .text(d=> \"$\"+d.cost+\"-\"+d.color)\n",
       "\n",
       "    }\n",
       "    function queryData(x) {\n",
       "        x = x.replaceAll(\"\\\"\",\"\")\n",
       "        x = x.replaceAll(\" \",\"\")\n",
       "        if (x.includes(\"==\")) selected = data.filter(d=>d[x.split(\"==\")[0]] == x.split(\"==\")[1]).map(d=>d.id)\n",
       "        else if (x.includes(\">=\")) selected = data.filter(d=>d[x.split(\">=\")[0]] >= x.split(\">=\")[1]).map(d=>d.id)\n",
       "        else if (x.includes(\"<=\")) selected = data.filter(d=>d[x.split(\"<=\")[0]] <= x.split(\"<=\")[1]).map(d=>d.id)\n",
       "        else if (x.includes(\">\")) selected = data.filter(d=>d[x.split(\">\")[0]] > x.split(\">\")[1]).map(d=>d.id)\n",
       "        else if (x.includes(\"<\")) selected = data.filter(d=>d[x.split(\"<\")[0]] < x.split(\"<\")[1]).map(d=>d.id)\n",
       "        else selected = []\n",
       "        svg.selectAll(\"path\")\n",
       "            .transition()\n",
       "            .delay((d,i) => i*50)\n",
       "            .style(\"opacity\",d=> (selected.indexOf(d.id)+1) ? 1 : .2)\n",
       "    }\n",
       "    createAutos()\n",
       "</script>\n",
       "\n"
      ],
      "text/plain": [
       "<IPython.core.display.HTML object>"
      ]
     },
     "metadata": {},
     "output_type": "display_data"
    }
   ],
   "source": [
    "%%html\n",
    "<div id=\"pick1\"></div>\n",
    "<label for=\"query\">Python:</label>\n",
    "<input type=\"text\" id=\"query\" name=\"query\" autocomplete=\"off\" value='auto == \"car\"''>\n",
    "<input type=\"button\" value=\"search\" onclick=\"queryData(document.getElementById('query').value)\">\n",
    "<script>\n",
    "    var svg, data; \n",
    "    function createAutos() {\n",
    "        var width = 600\n",
    "        var height = 400\n",
    "        var col = 6\n",
    "        var row = 4\n",
    "        svg = d3.select(\"div#pick1\").append(\"svg\")\n",
    "            .attr(\"width\", width)\n",
    "            .attr(\"height\", height)\n",
    "        var autos = [\"car\",\"truck\"]\n",
    "        var colors = [\"red\", \"blue\", \"yellow\", \"white\", \"black\"]\n",
    "        var shapes = []\n",
    "        shapes.push([[0,.4],[0,.6],[.25,.8],[.75,.8],[1,.6],[1,.4]])\n",
    "        shapes.push([[0,.4],[0,.7],[.6,.7],[.6,.9],[.8,.9],[1,.7],[1,.4]])\n",
    "        data = d3.range(col*row).map((d,i)=> {  \n",
    "            a = Math.floor(Math.random() * autos.length)\n",
    "            return ({\"auto\":autos[a],\n",
    "            \"shape\":shapes[a],\n",
    "            \"color\":colors[Math.floor(Math.random() * colors.length)],\n",
    "            \"cost\":+Math.ceil(Math.random() * 5),\n",
    "            \"id\":\"auto_\"+i})\n",
    "            })\n",
    "        \n",
    "        var xScale = d3.scaleLinear().range([5,(width/col)-5]).domain([0,1])\n",
    "        var yScale = d3.scaleLinear().range([(height/row)-10, 10]).domain([0,1])\n",
    "        var line = d3.line()\n",
    "            .x((d,i)=> xScale(d[0])) \n",
    "            .y((d,i)=> yScale(d[1])) \n",
    "            .curve(d3.curveLinearClosed)\n",
    "        var g = svg.selectAll(\"g\").data(data)\n",
    "            .join(\"g\")\n",
    "            .attr(\"transform\", (d,i) => { \n",
    "                return \"translate(\" + ((width/col)*Math.floor(i/row)) +\",\"+ ((height/row)*(i%row)) +\")\"\n",
    "            })\n",
    "\n",
    "        g.selectAll(\"path\")\n",
    "            .data(d=>[d])\n",
    "            .join(\"path\")\n",
    "            .attr(\"id\",d=>d.id)\n",
    "            .attr(\"d\", d => line(d.shape))\n",
    "            .style(\"stroke\", \"black\")\n",
    "            .style(\"stroke-width\", 3) \n",
    "            .style(\"fill\", d => d.color)\n",
    "\n",
    "        g.selectAll(\"circle#tire1\").data(d=>[d]).join(\"circle\")\n",
    "            .attr(\"id\",\"tire1\")\n",
    "            .attr(\"cx\", xScale(.2))\n",
    "            .attr(\"cy\", yScale(.4))\n",
    "            .attr(\"r\",width/(col*10))  \n",
    "        \n",
    "        g.selectAll(\"circle#tire2\").data(d=>[d]).join(\"circle\")\n",
    "            .attr(\"id\",\"tire2\")\n",
    "            .attr(\"cx\", xScale(.8))\n",
    "            .attr(\"cy\", yScale(.4))\n",
    "            .attr(\"r\",width/(col*10))    \n",
    "        \n",
    "        g.selectAll(\"text#cost\").data(d=>[d]).join(\"text\")\n",
    "            .attr(\"id\",\"cost\")\n",
    "            .attr(\"x\", (width/col)/2)\n",
    "            .attr(\"y\", 10)\n",
    "            .style(\"text-anchor\",\"middle\")\n",
    "            .text(d=> \"$\"+d.cost+\"-\"+d.color)\n",
    "        \n",
    "    }\n",
    "    function queryData(x) {\n",
    "        x = x.replaceAll(\"\\\"\",\"\")\n",
    "        x = x.replaceAll(\" \",\"\")\n",
    "        if (x.includes(\"==\")) selected = data.filter(d=>d[x.split(\"==\")[0]] == x.split(\"==\")[1]).map(d=>d.id)\n",
    "        else if (x.includes(\">=\")) selected = data.filter(d=>d[x.split(\">=\")[0]] >= x.split(\">=\")[1]).map(d=>d.id)\n",
    "        else if (x.includes(\"<=\")) selected = data.filter(d=>d[x.split(\"<=\")[0]] <= x.split(\"<=\")[1]).map(d=>d.id)\n",
    "        else if (x.includes(\">\")) selected = data.filter(d=>d[x.split(\">\")[0]] > x.split(\">\")[1]).map(d=>d.id)\n",
    "        else if (x.includes(\"<\")) selected = data.filter(d=>d[x.split(\"<\")[0]] < x.split(\"<\")[1]).map(d=>d.id)\n",
    "        else selected = []\n",
    "        svg.selectAll(\"path\")\n",
    "            .transition()\n",
    "            .delay((d,i) => i*50)\n",
    "            .style(\"opacity\",d=> (selected.indexOf(d.id)+1) ? 1 : .2)\n",
    "    }\n",
    "    createAutos()\n",
    "</script>\n",
    "\n"
   ]
  },
  {
   "cell_type": "markdown",
   "metadata": {},
   "source": [
    "## Multiple Comparisons"
   ]
  },
  {
   "cell_type": "markdown",
   "metadata": {},
   "source": [
    "We can make multiple comparisons at once by stringing the statements\n",
    "* and\n",
    "* not\n",
    "* or\n",
    "\n",
    "together. \n",
    "\n",
    "The individual testable (true/false) components need to be broken apart. For example,\n",
    "* If the V CATA bus is coming around the corner, then I need to run towards the bus stop\n",
    "\n",
    "requires several things for it to be true, and to require running.  We can break these things out with:\n",
    "* If there is a vehicle coming around the corner AND that vehicle is a CATA bus AND that CATA bus is a V, then I need to run towards the bus stop\n",
    "\n",
    "We will only run towards the bus stop if all of the statements are true"
   ]
  },
  {
   "cell_type": "markdown",
   "metadata": {},
   "source": [
    "### AND"
   ]
  },
  {
   "cell_type": "markdown",
   "metadata": {
    "slideshow": {
     "slide_type": "slide"
    }
   },
   "source": [
    "The and operator will return True if all of the conditions are met"
   ]
  },
  {
   "cell_type": "code",
   "execution_count": 16,
   "metadata": {
    "slideshow": {
     "slide_type": "fragment"
    }
   },
   "outputs": [
    {
     "name": "stdout",
     "output_type": "stream",
     "text": [
      "aVar= 10 ; bVar = 10 ; cVar =  11\n",
      "\n",
      "#-# Is aVar equal to 10?\n",
      "True\n",
      "\n",
      "#-# Is aVar equal to bVar?\n",
      "True\n",
      "\n",
      "#-# Is aVar equal to cVar?\n",
      "False\n",
      "\n",
      "#-# Is aVar equal to 10 AND aVar equal to bVar?\n",
      "True\n",
      "\n",
      "#-# Is aVar equal to 10 AND aVar equal to cVar?\n",
      "False\n"
     ]
    }
   ],
   "source": [
    "print( \"aVar=\", aVar, \"; bVar =\", bVar, \"; cVar = \", cVar )\n",
    "\n",
    "# Is aVar equal to 10?\n",
    "print( \"\\n#-# Is aVar equal to 10?\")\n",
    "print( aVar == 10 )\n",
    "      \n",
    "# Is aVar equal to bVar?\n",
    "print( \"\\n#-# Is aVar equal to bVar?\" )\n",
    "print( aVar == bVar )\n",
    "\n",
    "# Is aVar equal to cVar?\n",
    "print( \"\\n#-# Is aVar equal to cVar?\" )\n",
    "print( aVar == cVar )\n",
    "\n",
    "# Is aVar equal to 10 AND aVar equal to bVar?\n",
    "print ( \"\\n#-# Is aVar equal to 10 AND aVar equal to bVar?\")\n",
    "print( (aVar == 10) and (aVar == bVar) )\n",
    "\n",
    "# Is aVar equal to 10 AND aVar equal to cVar?\n",
    "print ( \"\\n#-# Is aVar equal to 10 AND aVar equal to cVar?\")\n",
    "print( (aVar == 10) and (aVar == cVar) )\n",
    "\n"
   ]
  },
  {
   "cell_type": "markdown",
   "metadata": {},
   "source": [
    "We can also string as many comparisons together as we want"
   ]
  },
  {
   "cell_type": "code",
   "execution_count": 17,
   "metadata": {},
   "outputs": [
    {
     "name": "stdout",
     "output_type": "stream",
     "text": [
      "True\n"
     ]
    }
   ],
   "source": [
    "print( (1 < 2) and (1 < 3) and (1 < 4) and (1 < 5) and (1 < 6) and (1 < 7) and (1 < 8) )"
   ]
  },
  {
   "cell_type": "markdown",
   "metadata": {},
   "source": [
    "### OR"
   ]
  },
  {
   "cell_type": "markdown",
   "metadata": {
    "slideshow": {
     "slide_type": "slide"
    }
   },
   "source": [
    "If we want 'True' for either of the conditions to be met, we can use the 'or' operator."
   ]
  },
  {
   "cell_type": "code",
   "execution_count": 18,
   "metadata": {
    "slideshow": {
     "slide_type": "fragment"
    }
   },
   "outputs": [
    {
     "name": "stdout",
     "output_type": "stream",
     "text": [
      "aVar= 10 ; bVar = 10 ; cVar =  11\n",
      "\n",
      "#-# Is aVar equal to 10?\n",
      "True\n",
      "\n",
      "#-# Is aVar equal to bVar?\n",
      "True\n",
      "\n",
      "#-# Is aVar equal to cVar?\n",
      "False\n",
      "\n",
      "#-# Is aVar equal to 11?\n",
      "False\n",
      "\n",
      "#-# Is aVar equal to 10 OR aVar equal to bVar?\n",
      "True\n",
      "\n",
      "#-# Is aVar equal to 10 or aVar equal to cVar?\n",
      "True\n",
      "\n",
      "#-# Is aVar equal to 11 or aVar equal to cVar?\n",
      "False\n"
     ]
    }
   ],
   "source": [
    "print( \"aVar=\", aVar, \"; bVar =\", bVar, \"; cVar = \", cVar )\n",
    "\n",
    "# Is aVar equal to 10?\n",
    "print( \"\\n#-# Is aVar equal to 10?\")\n",
    "print( aVar == 10 )\n",
    "      \n",
    "# Is aVar equal to bVar?\n",
    "print( \"\\n#-# Is aVar equal to bVar?\" )\n",
    "print( aVar == bVar )\n",
    "\n",
    "# Is aVar equal to cVar?\n",
    "print( \"\\n#-# Is aVar equal to cVar?\" )\n",
    "print( aVar == cVar )\n",
    "\n",
    "# Is aVar equal to 10?\n",
    "print( \"\\n#-# Is aVar equal to 11?\")\n",
    "print( aVar == 11 )\n",
    "\n",
    "# Is aVar equal to 10 OR aVar equal to bVar?\n",
    "print ( \"\\n#-# Is aVar equal to 10 OR aVar equal to bVar?\")\n",
    "print( (aVar == 10) or (aVar == bVar) )\n",
    "\n",
    "# Is aVar equal to 10 OR aVar equal to cVar?\n",
    "print ( \"\\n#-# Is aVar equal to 10 or aVar equal to cVar?\")\n",
    "print( (aVar == 10) or (aVar == cVar) )\n",
    "\n",
    "# Is aVar equal to 11 OR aVar equal to cVar?\n",
    "print ( \"\\n#-# Is aVar equal to 11 or aVar equal to cVar?\")\n",
    "print( (aVar == 11) or (aVar == cVar) )"
   ]
  },
  {
   "cell_type": "markdown",
   "metadata": {},
   "source": [
    "### Not"
   ]
  },
  {
   "cell_type": "markdown",
   "metadata": {},
   "source": [
    "We can add a not to change the meaning of the and/or operators"
   ]
  },
  {
   "cell_type": "code",
   "execution_count": 19,
   "metadata": {
    "slideshow": {
     "slide_type": "fragment"
    }
   },
   "outputs": [
    {
     "name": "stdout",
     "output_type": "stream",
     "text": [
      "aVar= 10 ; bVar = 10\n",
      "\n",
      "#-# Is aVar equal to 10?\n",
      "True\n",
      "\n",
      "#-# Is aVar equal to bVar?\n",
      "True\n",
      "\n",
      "#-# Is aVar equal to 10 AND aVar equal to bVar?\n",
      "True\n",
      "\n",
      "#-# Is aVar equal to 10 AND NOT aVar equal to bVar?\n",
      "False\n"
     ]
    }
   ],
   "source": [
    "print( \"aVar=\", aVar, \"; bVar =\", bVar )\n",
    "\n",
    "# Is aVar equal to 10?\n",
    "print( \"\\n#-# Is aVar equal to 10?\")\n",
    "print( aVar == 10 )\n",
    "      \n",
    "# Is aVar equal to bVar?\n",
    "print( \"\\n#-# Is aVar equal to bVar?\" )\n",
    "print( aVar == bVar )\n",
    "\n",
    "\n",
    "# Is aVar equal to 10 AND aVar equal to bVar?\n",
    "print ( \"\\n#-# Is aVar equal to 10 AND aVar equal to bVar?\")\n",
    "print( (aVar == 10) and (aVar == bVar) )\n",
    "\n",
    "# Is aVar equal to 10 AND NOT aVar equal to bVar?\n",
    "print ( \"\\n#-# Is aVar equal to 10 AND NOT aVar equal to bVar?\")\n",
    "print( (aVar == 10) and not (aVar == bVar) )\n",
    "\n"
   ]
  },
  {
   "cell_type": "markdown",
   "metadata": {
    "slideshow": {
     "slide_type": "slide"
    }
   },
   "source": [
    "## Check yourself"
   ]
  },
  {
   "cell_type": "markdown",
   "metadata": {},
   "source": [
    "Try to fill in code to fulfill the request!  Here are some variables used in the excercise"
   ]
  },
  {
   "cell_type": "code",
   "execution_count": 20,
   "metadata": {},
   "outputs": [],
   "source": [
    "dogA_color='brown'\n",
    "dogA_mass=42\n",
    "dogA_gender='male'\n",
    "dogA_age=5\n",
    "dogA_name='chip'\n",
    "\n",
    "dogB_color='white'\n",
    "dogB_mass=19\n",
    "dogB_gender='female'\n",
    "dogB_age=2\n",
    "dogB_name='lady'"
   ]
  },
  {
   "cell_type": "markdown",
   "metadata": {},
   "source": [
    "Is dogA the same color as dogB? (False)"
   ]
  },
  {
   "cell_type": "code",
   "execution_count": 51,
   "metadata": {},
   "outputs": [
    {
     "name": "stdout",
     "output_type": "stream",
     "text": [
      "False\n"
     ]
    }
   ],
   "source": [
    "# Example:\n",
    "print( dogA_color == dogB_color )"
   ]
  },
  {
   "cell_type": "markdown",
   "metadata": {},
   "source": [
    "Does dogA have the same name as dogB? (False)"
   ]
  },
  {
   "cell_type": "code",
   "execution_count": 52,
   "metadata": {},
   "outputs": [],
   "source": [
    "# Try it out here:\n"
   ]
  },
  {
   "cell_type": "markdown",
   "metadata": {},
   "source": [
    "Is dogA older than dogB? (True)"
   ]
  },
  {
   "cell_type": "code",
   "execution_count": 53,
   "metadata": {},
   "outputs": [],
   "source": [
    "# Try it out here:"
   ]
  },
  {
   "cell_type": "markdown",
   "metadata": {},
   "source": [
    "Is dogA the same gender as dogB? (False)"
   ]
  },
  {
   "cell_type": "code",
   "execution_count": 54,
   "metadata": {},
   "outputs": [],
   "source": [
    "# Try it out here:\n"
   ]
  },
  {
   "cell_type": "markdown",
   "metadata": {},
   "source": [
    "Is dogA heavier than dogB and have a different name than dogB? (True)"
   ]
  },
  {
   "cell_type": "code",
   "execution_count": 55,
   "metadata": {},
   "outputs": [],
   "source": [
    "# Try it out here:\n"
   ]
  },
  {
   "cell_type": "markdown",
   "metadata": {},
   "source": [
    "Does dogA have a different age than dogB and not a different gender than dogB? (False)"
   ]
  },
  {
   "cell_type": "code",
   "execution_count": 58,
   "metadata": {},
   "outputs": [],
   "source": [
    "# Try it out here:\n"
   ]
  },
  {
   "cell_type": "code",
   "execution_count": null,
   "metadata": {},
   "outputs": [],
   "source": []
  }
 ],
 "metadata": {
  "celltoolbar": "Slideshow",
  "kernelspec": {
   "display_name": "Python 3",
   "language": "python",
   "name": "python3"
  },
  "language_info": {
   "codemirror_mode": {
    "name": "ipython",
    "version": 3
   },
   "file_extension": ".py",
   "mimetype": "text/x-python",
   "name": "python",
   "nbconvert_exporter": "python",
   "pygments_lexer": "ipython3",
   "version": "3.7.10"
  }
 },
 "nbformat": 4,
 "nbformat_minor": 4
}