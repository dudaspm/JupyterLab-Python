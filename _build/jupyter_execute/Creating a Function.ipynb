{
 "cells": [
  {
   "cell_type": "markdown",
   "id": "389ce46e-4094-4497-8f7f-a39d6e884a89",
   "metadata": {},
   "source": [
    "# Creating a Function"
   ]
  },
  {
   "cell_type": "code",
   "execution_count": 1,
   "id": "32b0bd9c-396e-4244-8eae-b386041e177a",
   "metadata": {},
   "outputs": [],
   "source": [
    "## Functions"
   ]
  },
  {
   "cell_type": "markdown",
   "id": "48a88b92-1b11-4263-99fb-f8a2495e0a56",
   "metadata": {},
   "source": [
    "Functions allow us to do repeated tasks easily by writing the code only once.  Functions will have a name, inputs and outputs and can be called anywhere the task is repeated.\n",
    "\n",
    "There are functions that are built in to python, for example we have already been using the type() function, which tells us the type of variable we are using.  Note that print is also a function!"
   ]
  },
  {
   "cell_type": "code",
   "execution_count": 2,
   "id": "68493d18-36fd-4773-a7d6-244f1eba291f",
   "metadata": {},
   "outputs": [
    {
     "name": "stdout",
     "output_type": "stream",
     "text": [
      "<class 'float'>\n"
     ]
    }
   ],
   "source": [
    "aVal = 10.0\n",
    "print( type( aVal ) )"
   ]
  },
  {
   "cell_type": "markdown",
   "id": "bfdcf5f6-d5ff-4fef-a86b-fda32e9f6c6a",
   "metadata": {},
   "source": [
    "Functions have four typical parts:\n",
    "* Name - what you call your function\n",
    "* Input arguments - what you provide\n",
    "* Outputs - what the function gives back\n",
    "* Math/Magic - what the function does"
   ]
  },
  {
   "cell_type": "markdown",
   "id": "2a98e173-7f3e-4b5c-934e-6dbfa4835aed",
   "metadata": {},
   "source": [
    "In python, we use def to define a function with the function name and inputs followed by a colon.  The python function is then separated from the rest of the code by a tab. Some languages use braces rather than indentation.\n",
    "````python\n",
    "def functionName( inputs ):\n",
    "    # Operate on the inputs\n",
    "    ouputs = inputs + 5\n",
    "    # Return what we want to back\n",
    "    return outputs;\n",
    "   ````"
   ]
  },
  {
   "cell_type": "markdown",
   "id": "1dead74c-0141-4d75-bfdc-46b13d747cb6",
   "metadata": {},
   "source": [
    "Let's look at an example function, which changes degrees Farenheit to Celsius. "
   ]
  },
  {
   "cell_type": "code",
   "execution_count": 3,
   "id": "3eef8e21-8c33-462d-bd8e-0718b70622de",
   "metadata": {},
   "outputs": [],
   "source": [
    "def changeFromFToC( farVal ):\n",
    "    # Change the temperature from Farenheit to Celsius\n",
    "    cVal = (farVal - 32.0) * 5.0 / 9.0\n",
    "    return cVal "
   ]
  },
  {
   "cell_type": "markdown",
   "id": "8c880dc6-704f-449b-8a8e-60be409c3375",
   "metadata": {},
   "source": [
    "Here, our function name is changeFromFToC, the input is farVal, the temperature in Farenheit, the output is cVal, and the temperature in Celsius. We can print or store the output from the function.  Note that the function has to be defined before we use it - the cell with the function definition has to have run before we can call the function."
   ]
  },
  {
   "cell_type": "code",
   "execution_count": 4,
   "id": "7a19c6b0-0918-4e7c-aa81-45420d580862",
   "metadata": {},
   "outputs": [
    {
     "name": "stdout",
     "output_type": "stream",
     "text": [
      "#-# 14 Deg Farenheit in Celsius\n",
      "-10.0\n",
      "\n",
      "#-# 68 Deg Farenheit in Celsius\n",
      "20.0\n"
     ]
    }
   ],
   "source": [
    "# Change 14 deg F to Celsius\n",
    "print( \"#-# 14 Deg Farenheit in Celsius\" )\n",
    "print( changeFromFToC( 14 ) )\n",
    "\n",
    "# Change from 68 deg F to Celsius\n",
    "print( \"\\n#-# 68 Deg Farenheit in Celsius\" )\n",
    "niceTempC = changeFromFToC( 68 )\n",
    "print( niceTempC )"
   ]
  },
  {
   "cell_type": "markdown",
   "id": "4a4dac46-30ee-4102-97c9-630bef8bceef",
   "metadata": {},
   "source": [
    "### Multiple inputs and outputs"
   ]
  },
  {
   "cell_type": "code",
   "execution_count": 5,
   "id": "b2c98f60-0894-4033-9770-328e58dfdea6",
   "metadata": {},
   "outputs": [
    {
     "name": "stdout",
     "output_type": "stream",
     "text": [
      "#-# 14 Deg Farenheit in Celsius and Kelvin\n",
      "(-10.0, 263.15)\n",
      "\n",
      "#-# 212 Deg Farenheit in Celsius and Kelvin\n",
      "100.0\n",
      "373.15\n",
      "\n",
      "#-# 32 Deg Farenheit in Celsius and Kelvin\n",
      "0.0\n",
      "273.15\n"
     ]
    }
   ],
   "source": [
    "def changeFromFToCAndK( farVal ):\n",
    "    # Change the temperature from Farenheit to Celsius and Kelvin\n",
    "    cVal = (farVal - 32.0) * 5.0 / 9.0\n",
    "    kVal= cVal + 273.15\n",
    "    return cVal, kVal    \n",
    "    \n",
    "# Change 14 deg F to Celsius and Kelvin\n",
    "print( \"#-# 14 Deg Farenheit in Celsius and Kelvin\" )\n",
    "print( changeFromFToCAndK( 14 ) )\n",
    "\n",
    "# Change 212 deg F to Celsius and Kelvin\n",
    "print( \"\\n#-# 212 Deg Farenheit in Celsius and Kelvin\" )\n",
    "boilingC, boilingK = changeFromFToCAndK( 212 ) \n",
    "print( boilingC )\n",
    "print( boilingK )\n",
    "\n",
    "# Change 32 deg F to Celsius and Kelvin\n",
    "print( \"\\n#-# 32 Deg Farenheit in Celsius and Kelvin\" )\n",
    "freezing = changeFromFToCAndK( 32 ) \n",
    "print( freezing[0] )\n",
    "print( freezing[1] )"
   ]
  },
  {
   "cell_type": "code",
   "execution_count": 6,
   "id": "f670f9dd-7760-4306-9f55-86521f5203c1",
   "metadata": {},
   "outputs": [
    {
     "name": "stdout",
     "output_type": "stream",
     "text": [
      "#-# Wind chill at 32 with 8 mph wind\n",
      "24.846007283646554\n"
     ]
    }
   ],
   "source": [
    "def windChillFar( tempF, windMPH ):\n",
    "    # Calculate the wind chill index using\n",
    "    # tempF: Temperature in Farenheit\n",
    "    # windMPH: Wind in miles per hour\n",
    "    # to return the wind chill index\n",
    "    return 35.74 + (0.6215 * tempF) - (35.75 * windMPH**.16) + (0.4275 * tempF * windMPH**.16)\n",
    "\n",
    "print( \"#-# Wind chill at 32 with 8 mph wind\" )\n",
    "print( windChillFar( 32, 8 ) )"
   ]
  },
  {
   "cell_type": "markdown",
   "id": "17ae1b50-1aca-42fe-8f99-fb8338f5aedd",
   "metadata": {},
   "source": [
    "### Functions calling other functions"
   ]
  },
  {
   "cell_type": "markdown",
   "id": "13020a8e-aef2-4c7b-8002-4efb12ff3bb7",
   "metadata": {},
   "source": [
    "Functions can call other functions.  Here we add three using a function to add two and then adding one."
   ]
  },
  {
   "cell_type": "code",
   "execution_count": 7,
   "id": "44db398c-b536-4aa2-bb0b-374e7e60c196",
   "metadata": {},
   "outputs": [
    {
     "name": "stdout",
     "output_type": "stream",
     "text": [
      "#-# Add three to four using addThree, which calls addTwo\n",
      "7\n"
     ]
    }
   ],
   "source": [
    "def addTwo( inValAddTwo ):\n",
    "    # Add two to the input\n",
    "    return inValAddTwo + 2\n",
    "\n",
    "def addThree( inValAddThree ):\n",
    "    # Add three two the input\n",
    "    return addTwo( inValAddThree ) + 1\n",
    "\n",
    "# Add three to four\n",
    "print( \"#-# Add three to four using addThree, which calls addTwo\" )\n",
    "print( addThree( 4 ) )"
   ]
  },
  {
   "cell_type": "markdown",
   "id": "b6a61d9c-92b4-4abb-a80c-a2bd2c479b3a",
   "metadata": {},
   "source": [
    "Functions can also call themselves - these are called recursive functions.  See how we calculate the factorial by subtracting one and calling the function again. "
   ]
  },
  {
   "cell_type": "code",
   "execution_count": 8,
   "id": "0e94a485-10a1-4156-aa4e-4e298d34294a",
   "metadata": {},
   "outputs": [
    {
     "name": "stdout",
     "output_type": "stream",
     "text": [
      "\n",
      "#-# Use a recursive function to calculate the factorial of 5\n",
      "120\n"
     ]
    }
   ],
   "source": [
    "def factorialRecursive( facIn ):\n",
    "    # Calculate the factorial\n",
    "    if facIn == 1:\n",
    "        return facIn\n",
    "    else:\n",
    "        return facIn * factorialRecursive( facIn - 1)\n",
    "\n",
    "# Use a recursive function to calculate the factorial of 5\n",
    "print( \"\\n#-# Use a recursive function to calculate the factorial of 5\" )\n",
    "print( factorialRecursive( 5 ) )"
   ]
  },
  {
   "cell_type": "markdown",
   "id": "0385d73e-89fd-4aaa-b728-c380c1d63b18",
   "metadata": {},
   "source": [
    "### The gotcha for functions: Where variables can be used"
   ]
  },
  {
   "cell_type": "markdown",
   "id": "ff2f890a-9596-4e9c-9e0f-e521f93ef589",
   "metadata": {},
   "source": [
    "The biggest gotcha on functions is with variable scope: \n",
    "* Variables defined in a function are not accessible from the outside\n",
    "* Functions have access to more than just the variables passed in"
   ]
  },
  {
   "cell_type": "code",
   "execution_count": 9,
   "id": "7ed51f20-89b5-4be9-bc7b-4f303e59922a",
   "metadata": {},
   "outputs": [
    {
     "name": "stdout",
     "output_type": "stream",
     "text": [
      "#-# Print from In Function\n",
      "startingVal =  10\n",
      "middleVal =  12\n",
      "finalAns =  14\n",
      "\n",
      "#-# Print after the function\n",
      "startingVal =  10\n",
      "fourAdded =  14\n"
     ]
    },
    {
     "ename": "NameError",
     "evalue": "name 'middleVal' is not defined",
     "output_type": "error",
     "traceback": [
      "\u001b[1;31m---------------------------------------------------------------------------\u001b[0m",
      "\u001b[1;31mNameError\u001b[0m                                 Traceback (most recent call last)",
      "\u001b[1;32m<ipython-input-9-b6beff6955a7>\u001b[0m in \u001b[0;36m<module>\u001b[1;34m\u001b[0m\n\u001b[0;32m     22\u001b[0m \u001b[1;33m\u001b[0m\u001b[0m\n\u001b[0;32m     23\u001b[0m \u001b[1;31m# This won't work because middleVal was only defined within the function\u001b[0m\u001b[1;33m\u001b[0m\u001b[1;33m\u001b[0m\u001b[1;33m\u001b[0m\u001b[0m\n\u001b[1;32m---> 24\u001b[1;33m \u001b[0mprint\u001b[0m\u001b[1;33m(\u001b[0m \u001b[1;34m\"middleVal = \"\u001b[0m\u001b[1;33m,\u001b[0m \u001b[0mmiddleVal\u001b[0m \u001b[1;33m)\u001b[0m\u001b[1;33m\u001b[0m\u001b[1;33m\u001b[0m\u001b[0m\n\u001b[0m",
      "\u001b[1;31mNameError\u001b[0m: name 'middleVal' is not defined"
     ]
    }
   ],
   "source": [
    "# Function to add four\n",
    "def addFour( inValAddFour ):\n",
    "    middleVal = addTwo( inValAddFour )\n",
    "    finalAns = addTwo( middleVal )\n",
    "    print( \"#-# Print from In Function\" )\n",
    "    print( \"startingVal = \", startingVal )\n",
    "    print( \"middleVal = \", middleVal )\n",
    "    print( \"finalAns = \", finalAns )\n",
    "    return finalAns\n",
    "    \n",
    "#-#-#-#-#-#-#\n",
    "# Not in the function - this is what runs\n",
    "startingVal = 10\n",
    "\n",
    "# Call the function using startingVal as the input parameter\n",
    "fourAdded = addFour( startingVal )\n",
    "\n",
    "# Print out some things\n",
    "print( \"\\n#-# Print after the function\" )\n",
    "print( \"startingVal = \", startingVal )\n",
    "print( \"fourAdded = \" , fourAdded )\n",
    "\n",
    "# This won't work because middleVal was only defined within the function\n",
    "print( \"middleVal = \", middleVal )"
   ]
  }
 ],
 "metadata": {
  "kernelspec": {
   "display_name": "Python 3",
   "language": "python",
   "name": "python3"
  },
  "language_info": {
   "codemirror_mode": {
    "name": "ipython",
    "version": 3
   },
   "file_extension": ".py",
   "mimetype": "text/x-python",
   "name": "python",
   "nbconvert_exporter": "python",
   "pygments_lexer": "ipython3",
   "version": "3.7.10"
  }
 },
 "nbformat": 4,
 "nbformat_minor": 5
}