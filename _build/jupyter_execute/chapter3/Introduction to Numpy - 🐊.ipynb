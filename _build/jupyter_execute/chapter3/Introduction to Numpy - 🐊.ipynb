{
 "cells": [
  {
   "cell_type": "markdown",
   "id": "9d5e2493-0790-4816-b0b8-2b0e53fee052",
   "metadata": {},
   "source": [
    "# Introduction to Numpy - 🐊"
   ]
  },
  {
   "cell_type": "code",
   "execution_count": 1,
   "id": "09582007-20a6-494d-94e0-e63faa9862b0",
   "metadata": {},
   "outputs": [],
   "source": [
    "import numpy as np"
   ]
  },
  {
   "cell_type": "markdown",
   "id": "0efbfaa5-64a4-4d2a-9d99-6d7d5f61322c",
   "metadata": {},
   "source": [
    "Whereas panda helps sort and work with data. Numpy is for calculations. "
   ]
  },
  {
   "cell_type": "markdown",
   "id": "6a98a1eb-bc6f-4c30-9775-5f9a5b1abdda",
   "metadata": {},
   "source": [
    "Let's create an array."
   ]
  },
  {
   "cell_type": "code",
   "execution_count": 2,
   "id": "a36c2f8b-a1bd-4c6e-863b-95d5662cd40c",
   "metadata": {},
   "outputs": [
    {
     "name": "stdout",
     "output_type": "stream",
     "text": [
      "[1 2 3 4 5 6]\n"
     ]
    }
   ],
   "source": [
    "a = np.array([1, 2, 3, 4, 5, 6])\n",
    "print(a)"
   ]
  },
  {
   "cell_type": "raw",
   "id": "9689d8f9-1714-49b2-9c34-15701db5c1b8",
   "metadata": {},
   "source": [
    "This is what we call a one-dimensional array. "
   ]
  },
  {
   "cell_type": "code",
   "execution_count": 3,
   "id": "a595d3fe-c643-4963-9c6f-ea110c31d971",
   "metadata": {},
   "outputs": [
    {
     "name": "stdout",
     "output_type": "stream",
     "text": [
      "[[1 2 3]\n",
      " [4 5 6]]\n"
     ]
    }
   ],
   "source": [
    "b = np.array([[1, 2, 3],[4, 5, 6]])\n",
    "print(b)"
   ]
  },
  {
   "cell_type": "markdown",
   "id": "71f57343-e715-439b-b40e-f35c669d4a23",
   "metadata": {},
   "source": [
    "Two-dimensions."
   ]
  },
  {
   "cell_type": "code",
   "execution_count": 4,
   "id": "03d93d62-b9a9-4884-84c9-e0e81af3198e",
   "metadata": {},
   "outputs": [
    {
     "name": "stdout",
     "output_type": "stream",
     "text": [
      "[[[1]\n",
      "  [2]\n",
      "  [3]]\n",
      "\n",
      " [[4]\n",
      "  [5]\n",
      "  [6]]]\n"
     ]
    }
   ],
   "source": [
    "c = np.array([[[1], [2], [3]],[[4], [5], [6]]])\n",
    "print(c)"
   ]
  },
  {
   "cell_type": "raw",
   "id": "03d23b87-c778-4189-8ac5-5054a1df4df9",
   "metadata": {},
   "source": [
    "Three-dimensions!"
   ]
  },
  {
   "cell_type": "markdown",
   "id": "7b7bd7de-6a3c-4c07-8847-70484c0958e3",
   "metadata": {},
   "source": [
    "We can actually check this with the function ndim."
   ]
  },
  {
   "cell_type": "code",
   "execution_count": 5,
   "id": "b1c59000-3e33-4ae2-a4bc-6c9941733b60",
   "metadata": {},
   "outputs": [
    {
     "name": "stdout",
     "output_type": "stream",
     "text": [
      "1\n",
      "2\n",
      "3\n"
     ]
    }
   ],
   "source": [
    "print(a.ndim)\n",
    "print(b.ndim)\n",
    "print(c.ndim)"
   ]
  },
  {
   "cell_type": "markdown",
   "id": "f72eaa08-455b-4b5e-bd15-2ce5ba08033e",
   "metadata": {},
   "source": [
    "or we can check the whole shape..."
   ]
  },
  {
   "cell_type": "code",
   "execution_count": 6,
   "id": "3033514c-81da-4d7f-9ed6-e4dae43ec9cc",
   "metadata": {},
   "outputs": [
    {
     "name": "stdout",
     "output_type": "stream",
     "text": [
      "(6,)\n",
      "(2, 3)\n",
      "(2, 3, 1)\n"
     ]
    }
   ],
   "source": [
    "print(a.shape)\n",
    "print(b.shape)\n",
    "print(c.shape)"
   ]
  },
  {
   "cell_type": "markdown",
   "id": "10e5e678-42ef-4df2-8837-4b2c6bf4eb41",
   "metadata": {},
   "source": [
    "Your turn: \n",
    "Create a Rubik's cube where each color is a number. "
   ]
  },
  {
   "cell_type": "code",
   "execution_count": 7,
   "id": "c83b4734-8f65-485f-85ba-2a2f53d7ad7e",
   "metadata": {},
   "outputs": [],
   "source": [
    "# code"
   ]
  },
  {
   "cell_type": "markdown",
   "id": "ec952c61-7807-4ed6-94ed-4afd6fa0c344",
   "metadata": {},
   "source": [
    "We can also work with pandas and numpy together! "
   ]
  },
  {
   "cell_type": "code",
   "execution_count": 8,
   "id": "6c48bdcb-9e82-4d44-a10b-3589477936ed",
   "metadata": {},
   "outputs": [
    {
     "ename": "NameError",
     "evalue": "name 'pd' is not defined",
     "output_type": "error",
     "traceback": [
      "\u001b[0;31m---------------------------------------------------------------------------\u001b[0m",
      "\u001b[0;31mNameError\u001b[0m                                 Traceback (most recent call last)",
      "Cell \u001b[0;32mIn[8], line 1\u001b[0m\n\u001b[0;32m----> 1\u001b[0m b \u001b[38;5;241m=\u001b[39m \u001b[43mpd\u001b[49m\u001b[38;5;241m.\u001b[39mDataFrame([[\u001b[38;5;241m1\u001b[39m, \u001b[38;5;241m2\u001b[39m, \u001b[38;5;241m3\u001b[39m],[\u001b[38;5;241m4\u001b[39m, \u001b[38;5;241m5\u001b[39m, \u001b[38;5;241m6\u001b[39m]])\n\u001b[1;32m      2\u001b[0m b\u001b[38;5;241m.\u001b[39mcolumns \u001b[38;5;241m=\u001b[39m [\u001b[38;5;124m'\u001b[39m\u001b[38;5;124mname1\u001b[39m\u001b[38;5;124m'\u001b[39m,\u001b[38;5;124m'\u001b[39m\u001b[38;5;124mname2\u001b[39m\u001b[38;5;124m'\u001b[39m,\u001b[38;5;124m'\u001b[39m\u001b[38;5;124mname3\u001b[39m\u001b[38;5;124m'\u001b[39m] \n\u001b[1;32m      3\u001b[0m \u001b[38;5;28mprint\u001b[39m(b)\n",
      "\u001b[0;31mNameError\u001b[0m: name 'pd' is not defined"
     ]
    }
   ],
   "source": [
    "b = pd.DataFrame([[1, 2, 3],[4, 5, 6]])\n",
    "b.columns = ['name1','name2','name3'] \n",
    "print(b)"
   ]
  },
  {
   "cell_type": "code",
   "execution_count": 27,
   "id": "a7bf6468-532c-4a12-9ac5-4f56cc3c9432",
   "metadata": {},
   "outputs": [
    {
     "data": {
      "text/plain": [
       "array([[1, 2, 3],\n",
       "       [4, 5, 6]])"
      ]
     },
     "execution_count": 27,
     "metadata": {},
     "output_type": "execute_result"
    }
   ],
   "source": [
    "b.to_numpy()"
   ]
  },
  {
   "cell_type": "markdown",
   "id": "0b6149c9-990a-433f-a805-f6b834eafba3",
   "metadata": {},
   "source": [
    "or a specific column"
   ]
  },
  {
   "cell_type": "code",
   "execution_count": 28,
   "id": "0c275908-ac01-40f6-8965-bbe91c004ef3",
   "metadata": {},
   "outputs": [
    {
     "data": {
      "text/plain": [
       "array([1, 4])"
      ]
     },
     "execution_count": 28,
     "metadata": {},
     "output_type": "execute_result"
    }
   ],
   "source": [
    "b['name1'].to_numpy()"
   ]
  },
  {
   "cell_type": "markdown",
   "id": "758b116e-20a4-413d-8187-8fbb277a76a0",
   "metadata": {},
   "source": [
    "Now we can do something with the array. "
   ]
  },
  {
   "cell_type": "code",
   "execution_count": 34,
   "id": "abcd6c3d-2501-4826-8d0c-5ac87d14f6f2",
   "metadata": {},
   "outputs": [
    {
     "name": "stdout",
     "output_type": "stream",
     "text": [
      "[11 14]\n"
     ]
    }
   ],
   "source": [
    "d = b['name1'].to_numpy()\n",
    "e = d + 10\n",
    "print(e)"
   ]
  },
  {
   "cell_type": "markdown",
   "id": "32d467a8-3ffe-4427-a927-a59bebad4276",
   "metadata": {},
   "source": [
    "Let's send it back to pandas."
   ]
  },
  {
   "cell_type": "code",
   "execution_count": 37,
   "id": "72a7e6fc-94ee-463b-a11d-68364fe323bf",
   "metadata": {},
   "outputs": [
    {
     "name": "stdout",
     "output_type": "stream",
     "text": [
      "   name1  name2  name3\n",
      "0     11      2      3\n",
      "1     14      5      6\n"
     ]
    }
   ],
   "source": [
    "b['name1'] = pd.array(e)\n",
    "print(b)"
   ]
  },
  {
   "cell_type": "markdown",
   "id": "262b525c-4420-4cd2-899f-da1ffc63839b",
   "metadata": {},
   "source": [
    "Your turn: using your rubrik's cube\n",
    "* Add a constant to each value\n",
    "* Send to pandas\n",
    "* And add columns"
   ]
  }
 ],
 "metadata": {
  "kernelspec": {
   "display_name": "Python 3 (ipykernel)",
   "language": "python",
   "name": "python3"
  },
  "language_info": {
   "codemirror_mode": {
    "name": "ipython",
    "version": 3
   },
   "file_extension": ".py",
   "mimetype": "text/x-python",
   "name": "python",
   "nbconvert_exporter": "python",
   "pygments_lexer": "ipython3",
   "version": "3.9.21"
  }
 },
 "nbformat": 4,
 "nbformat_minor": 5
}