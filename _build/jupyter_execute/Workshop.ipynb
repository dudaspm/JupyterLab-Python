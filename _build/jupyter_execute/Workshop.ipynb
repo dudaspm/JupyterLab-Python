{
 "cells": [
  {
   "cell_type": "markdown",
   "metadata": {
    "colab_type": "text",
    "id": "view-in-github"
   },
   "source": [
    "<a href=\"https://colab.research.google.com/github/dudaspm/JupyterLab-Python/blob/main/Workshop.ipynb\" target=\"_parent\"><img src=\"https://colab.research.google.com/assets/colab-badge.svg\" alt=\"Open In Colab\"/></a>"
   ]
  },
  {
   "cell_type": "code",
   "execution_count": 1,
   "metadata": {
    "cellView": "form",
    "id": "OgtsofoT6Fd4"
   },
   "outputs": [],
   "source": [
    "#@title Example form fields\n",
    "#@markdown Forms support many types of fields.\n",
    "\n",
    "no_type_checking = ''  #@param\n",
    "string_type = 'example'  #@param {type: \"string\"}\n",
    "slider_value = 142  #@param {type: \"slider\", min: 100, max: 200}\n",
    "number = 102  #@param {type: \"number\"}\n",
    "date = '2010-11-05'  #@param {type: \"date\"}\n",
    "pick_me = \"monday\"  #@param ['monday', 'tuesday', 'wednesday', 'thursday']\n",
    "select_or_input = \"apples\" #@param [\"apples\", \"bananas\", \"oranges\"] {allow-input: true}\n",
    "#@markdown ---\n"
   ]
  },
  {
   "cell_type": "code",
   "execution_count": 2,
   "metadata": {
    "colab": {
     "base_uri": "https://localhost:8080/"
    },
    "id": "K5HlEEIA3ODv",
    "outputId": "2ab08bd9-966f-4bda-f840-0225a784dffd"
   },
   "outputs": [
    {
     "data": {
      "text/plain": [
       "4"
      ]
     },
     "execution_count": 2,
     "metadata": {},
     "output_type": "execute_result"
    }
   ],
   "source": [
    "2 + 2"
   ]
  },
  {
   "cell_type": "markdown",
   "metadata": {
    "id": "FJL7VlBd4d-b"
   },
   "source": [
    "# This is my title \n"
   ]
  },
  {
   "cell_type": "markdown",
   "metadata": {
    "id": "VDMG8f3e42-d"
   },
   "source": [
    "## this is a sub-heading"
   ]
  },
  {
   "cell_type": "markdown",
   "metadata": {
    "id": "uAV5Obgr4-FY"
   },
   "source": []
  }
 ],
 "metadata": {
  "colab": {
   "authorship_tag": "ABX9TyMNmRC3pSKdNHjd5+LWIZWD",
   "include_colab_link": true,
   "name": "Workshop.ipynb",
   "provenance": [],
   "toc_visible": true
  },
  "kernelspec": {
   "display_name": "Python 3",
   "name": "python3"
  },
  "language_info": {
   "codemirror_mode": {
    "name": "ipython",
    "version": 3
   },
   "file_extension": ".py",
   "mimetype": "text/x-python",
   "name": "python",
   "nbconvert_exporter": "python",
   "pygments_lexer": "ipython3",
   "version": "3.7.10"
  }
 },
 "nbformat": 4,
 "nbformat_minor": 0
}