{
 "cells": [
  {
   "cell_type": "markdown",
   "id": "0dfeabe5-c0e7-461c-a581-947fa8f40032",
   "metadata": {},
   "source": [
    "# All About Google Colab - 🐦"
   ]
  },
  {
   "cell_type": "markdown",
   "id": "7728c62f-6aba-4b2d-93c9-d4ea28003111",
   "metadata": {},
   "source": [
    "## Working with Data \n",
    "For this notebook, we will be focusing on using Google Colab {cite:ps}`GoogleColaboratoryIO`\n"
   ]
  },
  {
   "cell_type": "markdown",
   "id": "e1cac43b-7d52-41ad-b6fc-4658342f1e51",
   "metadata": {},
   "source": [
    "### A Temporary Solution\n",
    "\n",
    "You can create and interact with files when you access Google Colab, *BUT* they will disappear after your session ends. An example would be:"
   ]
  },
  {
   "cell_type": "code",
   "execution_count": 1,
   "id": "4e975039-2a42-48b7-afd3-9178bf188b47",
   "metadata": {},
   "outputs": [],
   "source": [
    "f = open(\"thanosSnapping.txt\", \"a\")\n",
    "f.write(\"you should've gone for the head\")\n",
    "f.close()"
   ]
  },
  {
   "cell_type": "markdown",
   "id": "eaef4a13-0c08-448c-86bf-6541be903aee",
   "metadata": {},
   "source": [
    "```{warning} \n",
    "Super serious here. \n",
    "If files are not written to your local machine or your Google Drive. They will be **gone** the next time you log in.\n",
    "```"
   ]
  },
  {
   "cell_type": "markdown",
   "id": "2324db82-cc8f-45b9-ac4a-370e28233a54",
   "metadata": {},
   "source": [
    "We need a better solution for this. So, let's take a look at these options. "
   ]
  },
  {
   "cell_type": "markdown",
   "id": "cbf4acb2-0cfd-4d4e-8ae3-b19ff5c3f9d1",
   "metadata": {},
   "source": [
    "### Connecting to Your Google Drive\n",
    "\n",
    "There are two ways to connect to your Google Drive. \n",
    "\n",
    "#### Selecting the Icon to Connect\n",
    "\n",
    "```{image} https://raw.githubusercontent.com/dudaspm/JupyterLab-Python/main/images/connectToDrive.PNG\n",
    ":alt: Icon for Connecting to Google Colab\n",
    ":width: 400px\n",
    ":align: center\n",
    "```\n",
    "\n",
    "#### Connecting Using Google Colab Code\n",
    "\n",
    "```python\n",
    "from google.colab import drive\n",
    "drive.mount('/content/drive')\n",
    "```\n",
    "\n",
    "This will look something like this:\n",
    "\n",
    "```{image} https://raw.githubusercontent.com/dudaspm/JupyterLab-Python/main/images/googleColabConnect.PNG\n",
    ":alt: Connecting to Google Colab with Code\n",
    ":width: 500px\n",
    ":align: center\n",
    "```"
   ]
  },
  {
   "cell_type": "markdown",
   "id": "9441155f-5027-447f-bd41-ddd187af5cb6",
   "metadata": {},
   "source": [
    "#### I am Connected, Now What?\n",
    "\n",
    "It can be a bit difficult to figure out where to place files and where your files are located in Google Colab. Once you connect, you will need to navigate the folder structure to find your file. They did not make this very easy to find. Here is a quick screenshot.\n",
    "\n",
    "\n",
    "```{image} https://raw.githubusercontent.com/dudaspm/JupyterLab-Python/main/images/contentFolder.PNG\n",
    ":alt: file structure in Google Colab\n",
    ":width: 400px\n",
    ":align: center\n",
    "```"
   ]
  },
  {
   "cell_type": "markdown",
   "id": "c21c21a0-91eb-4327-b5b1-83b38ba2b164",
   "metadata": {
    "tags": [
     "hide-cell"
    ]
   },
   "source": [
    "### Connecting to Gitlab\n",
    "Another way to work with data outside of your Google Drive is using something like GitHub or, in our case GitLab. A bit of a warning before we begin."
   ]
  },
  {
   "cell_type": "markdown",
   "id": "198d5f4a-ec04-4cfd-a3ba-abe01554d794",
   "metadata": {},
   "source": [
    "```{warning}\n",
    "Github is an open repository. Any file placed on Github is available for *ANYONE* to view, download, or edit. \n",
    "```"
   ]
  },
  {
   "cell_type": "markdown",
   "id": "2a3bb682-0775-48b5-b1c1-18e18a187f1a",
   "metadata": {},
   "source": [
    "Make sure you read of the terms of services as well! \n",
    "\n",
    "For accessing GitLab through Penn State, here is the link (https://git.psu.edu/). You do need to setup a username/password to start creating. \n",
    "\n",
    "If you are interest in using Git, let me show the basics. \n",
    "\n",
    "#### Creating a Connection (SSH)\n",
    "\n",
    "The first step in this process is to create a connection between Google Colab and GitLab, and this starts with saying to Google Colab: You can connect to this resource because I gave you access. The way we do this is to create an *SSH Key*.\n",
    "\n"
   ]
  },
  {
   "cell_type": "markdown",
   "id": "c5cd6822-091b-487b-bb51-51d57c08c27a",
   "metadata": {},
   "source": [
    "```{note}\n",
    "Code will run in Google Colab but has been commented out to work on the website. \n",
    "```"
   ]
  },
  {
   "cell_type": "markdown",
   "id": "8d6300ba-598c-4f6c-8b38-ac80157a8c42",
   "metadata": {},
   "source": [
    "```python\n",
    "!ssh-keygen -t ed25519 -C \"SSH key for google colab\"\n",
    "```"
   ]
  },
  {
   "cell_type": "code",
   "execution_count": 2,
   "id": "0708209e-2b3c-45e7-b77a-6cef5342df46",
   "metadata": {},
   "outputs": [],
   "source": [
    "#!ssh-keygen -t ed25519 -C \"SSH key for google colab\""
   ]
  },
  {
   "cell_type": "markdown",
   "id": "38ed4bfa-ea9a-41b8-9506-f469b10ef264",
   "metadata": {},
   "source": [
    "To see this file, we will need to read the file using a UNIX command call 😸 (cat or con**cat**enate)\n",
    "\n",
    "```python \n",
    "!cat /root/.ssh/id_ed25519.pub\n",
    "```"
   ]
  },
  {
   "cell_type": "code",
   "execution_count": 3,
   "id": "e98ada9b-7a7c-4a31-a24c-afbe61f36ccc",
   "metadata": {},
   "outputs": [],
   "source": [
    "#!cat /root/.ssh/id_ed25519.pub"
   ]
  },
  {
   "cell_type": "markdown",
   "id": "85d0ca78-dcc8-4d4d-a7c6-5266d7c721a3",
   "metadata": {},
   "source": [
    "We now need to tell SSH that the PSU GitLab is fine to connect to (it is a known host). \n",
    "\n",
    "```python\n",
    "!ssh-keyscan git.psu.edu >> /root/.ssh/known_hosts\n",
    "```"
   ]
  },
  {
   "cell_type": "code",
   "execution_count": 4,
   "id": "6b185e5a-5f9c-4227-af5f-451c05aee5f1",
   "metadata": {},
   "outputs": [],
   "source": [
    "#!ssh-keyscan git.psu.edu >> /root/.ssh/known_hosts"
   ]
  },
  {
   "cell_type": "markdown",
   "id": "af74ef25-9349-42ac-9462-a21636903384",
   "metadata": {},
   "source": [
    "Now in GitLab, we need to add this SSH key to our account. \n",
    "\n",
    "![GitLab adding SSH](https://raw.githubusercontent.com/dudaspm/JupyterLab-Python/main/images/gitlabSSH.PNG)"
   ]
  },
  {
   "cell_type": "markdown",
   "id": "9ba52754-0ba0-4c83-b42f-4d1d5edf87f4",
   "metadata": {},
   "source": [
    "Finally, let's test this connection. \n",
    "\n",
    "```python\n",
    "!ssh -T git@git.psu.edu\n",
    "```"
   ]
  },
  {
   "cell_type": "code",
   "execution_count": 5,
   "id": "a813067d-b743-4a25-8507-21dccf356109",
   "metadata": {},
   "outputs": [],
   "source": [
    "#!ssh -T git@git.psu.edu"
   ]
  },
  {
   "cell_type": "markdown",
   "id": "2db1e6d8-4d35-4968-9b95-014d370597d9",
   "metadata": {},
   "source": [
    "You should receive a message that looks like this:\n",
    ">Warning: Permanently added the ECDSA host key for IP address '***.***.***.***' to the list of known hosts.\n",
    "Welcome to GitLab, @you!"
   ]
  },
  {
   "cell_type": "markdown",
   "id": "8aa59be3-4003-4a22-b63d-02737a340223",
   "metadata": {},
   "source": [
    "#### The Push and Pull of Git"
   ]
  },
  {
   "cell_type": "markdown",
   "id": "d77e27ee-7c25-44da-9b4a-21f9e23efdbb",
   "metadata": {},
   "source": [
    "Git, basically, is a push and pull mechanism. You *pull* your project down from GitLab. Make changes. Then *push* it back to GitLab. Here is an example of doing this with your file from before. First, we **clone** the repository. \n",
    "\n",
    "```python\n",
    "!git clone git@git.psu.edu:pmd19/workshop_temp.git\n",
    "```"
   ]
  },
  {
   "cell_type": "code",
   "execution_count": 6,
   "id": "29869e34-4ca1-4212-9ffe-f46ad2f6e8c7",
   "metadata": {},
   "outputs": [],
   "source": [
    "#!git clone git@git.psu.edu:pmd19/workshop_temp.git"
   ]
  },
  {
   "cell_type": "markdown",
   "id": "92f9f20a-2a04-473e-abbc-7bb764de64ed",
   "metadata": {},
   "source": [
    "We then **pull** the current content from GitLab. Note cd stands for Change Directory, and PWD stands for Print Work Directory. \n",
    "\n",
    "```python\n",
    "%cd /content/workshop_temp\n",
    "!pwd\n",
    "!git pull origin master\n",
    "```"
   ]
  },
  {
   "cell_type": "code",
   "execution_count": 7,
   "id": "852e1e44-e83f-43f1-84ae-3e8609971aa8",
   "metadata": {},
   "outputs": [],
   "source": [
    "#%cd /content/workshop_temp\n",
    "#!pwd\n",
    "#!git pull origin master"
   ]
  },
  {
   "cell_type": "markdown",
   "id": "f81849b9-a52c-4ee4-beff-a85333ac568e",
   "metadata": {},
   "source": [
    "We write our file to our directory and **add** it to the list of things we want to update on GitLab.\n",
    "\n",
    "```python\n",
    "!pwd\n",
    "f = open(\"thanosSnapping.txt\", \"w\")\n",
    "f.write(\"you should've gone for the head\")\n",
    "f.close()\n",
    "!git add \"thanosSnapping.txt\"\n",
    "```"
   ]
  },
  {
   "cell_type": "code",
   "execution_count": 8,
   "id": "2ffede9a-3cf9-4868-9f1b-0312cda04cad",
   "metadata": {},
   "outputs": [],
   "source": [
    "#!pwd\n",
    "#f = open(\"thanosSnapping.txt\", \"w\")\n",
    "#f.write(\"you should've gone for the head\")\n",
    "#f.close()\n",
    "#!git add \"thanosSnapping.txt\""
   ]
  },
  {
   "cell_type": "markdown",
   "id": "088748c3-d9fe-4d5d-9f87-99c6ec754230",
   "metadata": {},
   "source": [
    "Git wants to make sure it knows who is updating what, so it needs a person and an email address to associate the changes. We then **commit** to these changes, and finally, we **push** our changes to GitLab.\n",
    "\n",
    "```python\n",
    "!git config --global user.email 'pmd19@psu.edu'\n",
    "!git config --global user.name 'Patrick Dudas'\n",
    "!git commit -m \"testing\"\n",
    "!git push git@git.psu.edu:pmd19/workshop_temp.git\n",
    "```"
   ]
  },
  {
   "cell_type": "code",
   "execution_count": 9,
   "id": "a69f2d67-9cd0-4b15-9f53-3d7bf683d201",
   "metadata": {},
   "outputs": [],
   "source": [
    "#!git config --global user.email 'pmd19@psu.edu'\n",
    "#!git config --global user.name 'Patrick Dudas'\n",
    "#!git commit -m \"testing\"\n",
    "#!git push git@git.psu.edu:pmd19/workshop_temp.git"
   ]
  }
 ],
 "metadata": {
  "kernelspec": {
   "display_name": "Python 3",
   "language": "python",
   "name": "python3"
  },
  "language_info": {
   "codemirror_mode": {
    "name": "ipython",
    "version": 3
   },
   "file_extension": ".py",
   "mimetype": "text/x-python",
   "name": "python",
   "nbconvert_exporter": "python",
   "pygments_lexer": "ipython3",
   "version": "3.7.10"
  }
 },
 "nbformat": 4,
 "nbformat_minor": 5
}