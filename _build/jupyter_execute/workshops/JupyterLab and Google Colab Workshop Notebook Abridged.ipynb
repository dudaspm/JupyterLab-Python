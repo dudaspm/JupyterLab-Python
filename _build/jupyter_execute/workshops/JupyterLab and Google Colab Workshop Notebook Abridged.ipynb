{
 "cells": [
  {
   "cell_type": "markdown",
   "id": "faed0495-cd43-451a-864e-dd69864276f3",
   "metadata": {},
   "source": [
    "# JupyterLab and Google Colab Workshop Notebook Abridged"
   ]
  },
  {
   "cell_type": "markdown",
   "id": "0efd9f2d-1963-4068-b440-00cbb4960203",
   "metadata": {},
   "source": [
    "## Notebook Introduction - 🐸"
   ]
  },
  {
   "cell_type": "markdown",
   "id": "5922b5a5-c36b-44d2-b549-721e2657389d",
   "metadata": {},
   "source": [
    "### How to Use this Notebook "
   ]
  },
  {
   "cell_type": "markdown",
   "id": "e92400d3-360c-4ef0-bcc1-c810427ae0ad",
   "metadata": {},
   "source": [
    "This notebook allows you to both follow the text and interact with the code directly. \n",
    "\n",
    "At the top page, you will see:\n",
    "\n",
    "<img src=\"https://raw.githubusercontent.com/dudaspm/JupyterLab-Python/main/images/topscreen1.png\" alt=\"icons at the top right corner of the screen\" style=\"width:200px;margin-left:auto;margin-right:auto;display:block;\">\n",
    "\n",
    "Select the icon on the left, the rocket ship:\n",
    "\n",
    "<img src=\"https://raw.githubusercontent.com/dudaspm/JupyterLab-Python/main/images/topscreen2.png\" alt=\"rocket ship icon for running the notebook\" style=\"width:200px;margin-left:auto;margin-right:auto;display:block;\">\n",
    "\n",
    "Then go down to \"Live Code\":\n",
    "\n",
    "\n",
    "<img src=\"https://raw.githubusercontent.com/dudaspm/JupyterLab-Python/main/images/topscreen4.png\" alt=\"selecting Live Code\" style=\"width:240px;margin-left:auto;margin-right:auto;display:block;\">\n",
    "\n",
    "You should see at the top of the page a loading bar that cycles through mulitple states. \n",
    "<img src=\"https://raw.githubusercontent.com/dudaspm/JupyterLab-Python/main/images/topscreen6.png\" alt=\"loading bar, first cycle\" style=\"width:240px;margin-left:auto;margin-right:auto;display:block;\">\n",
    "\n",
    "<img src=\"https://raw.githubusercontent.com/dudaspm/JupyterLab-Python/main/images/topscreen7.png\" alt=\"loading bar, second cycle\" style=\"width:240px;margin-left:auto;margin-right:auto;display:block;\">\n",
    "\n",
    "<img src=\"https://raw.githubusercontent.com/dudaspm/JupyterLab-Python/main/images/topscreen7b.png\" alt=\"loading bar, thrid cycle\" style=\"width:240px;margin-left:auto;margin-right:auto;display:block;\">\n",
    "\n",
    "<img alt=\"loading bar, fourth cycle\" src=\"https://raw.githubusercontent.com/dudaspm/JupyterLab-Python/main/images/topscreen8.png\" style=\"width:240px;margin-left:auto;margin-right:auto;display:block;\">\n",
    "\n",
    "Then, finally:\n",
    "<img src=\"https://raw.githubusercontent.com/dudaspm/JupyterLab-Python/main/images/topscreen9.png\" alt=\"loading bar, final cycle\" style=\"width:240px;margin-left:auto;margin-right:auto;display:block;\">\n",
    "\n",
    "Try this for yourself! \n",
    "\n",
    "Here is a basic line in Python, after setting to Live Code. You can edit the Python code **directly in the notebook** 😀 😀 😀"
   ]
  },
  {
   "cell_type": "code",
   "execution_count": 1,
   "id": "338d8c0f-152c-44db-b1d5-f194c748ed99",
   "metadata": {},
   "outputs": [
    {
     "data": {
      "text/plain": [
       "4"
      ]
     },
     "execution_count": 1,
     "metadata": {},
     "output_type": "execute_result"
    }
   ],
   "source": [
    "2 + 2"
   ]
  },
  {
   "cell_type": "markdown",
   "id": "37256603-1008-4e10-9f17-ea991c99f710",
   "metadata": {},
   "source": [
    "## Export to Binder or Google Colab "
   ]
  },
  {
   "cell_type": "markdown",
   "id": "bd818441-fa19-48fc-9707-787e1f15b5c8",
   "metadata": {},
   "source": [
    "As you can see you can also export these notebooks to Binder or Google Colab. \n",
    "\n",
    "<img alt=\"Binder or Google Colab options\" src=\"https://raw.githubusercontent.com/dudaspm/JupyterLab-Python/main/images/topscreen3.png\" style=\"width:240px;margin-left:auto;margin-right:auto;display:block;\">\n",
    "\n",
    "This will take you to their respective websites but you can work with them there, if you would like!"
   ]
  },
  {
   "cell_type": "markdown",
   "id": "5be661e3-41eb-4835-9448-79997c1628b2",
   "metadata": {},
   "source": [
    "### References"
   ]
  },
  {
   "cell_type": "markdown",
   "id": "1bb6bbb2-53a7-41d3-accd-bb1610756108",
   "metadata": {},
   "source": [
    "I know it tradition to have the refences at the end of books, but when you are standing on the shoulders of giants. You thank them first. "
   ]
  },
  {
   "cell_type": "markdown",
   "id": "c934f71d-206f-4fd9-9553-1f0177cb83be",
   "metadata": {},
   "source": [
    "```{bibliography}\n",
    "```"
   ]
  },
  {
   "cell_type": "markdown",
   "id": "03ae7d9e-9cca-478b-894d-c949953c3b5f",
   "metadata": {},
   "source": [
    "### Thank you!\n",
    "\n",
    "Also, a huge *thank you* to Adam Lavely (https://github.com/adamlavely) for developing some of the intial notebooks! "
   ]
  },
  {
   "cell_type": "markdown",
   "id": "8132f1aa",
   "metadata": {
    "id": "W00cXZatCdYc"
   },
   "source": [
    "## Introduction to JupyterLab - 🐘"
   ]
  },
  {
   "cell_type": "markdown",
   "id": "1a074396",
   "metadata": {
    "id": "h_iBWWX6CiuL"
   },
   "source": [
    "### Where am I? (JupyterLab Notebook)"
   ]
  },
  {
   "cell_type": "markdown",
   "id": "ddb8ed60",
   "metadata": {
    "id": "ChfQO9ZZCp6j"
   },
   "source": [
    "Jupyter is a powerful suite of tools that allows us to do many things.\n",
    "\n",
    "Jupyter is capable of running **Ju**lia, **Pyt**hon and **R**, as well as some other things. \n"
   ]
  },
  {
   "cell_type": "markdown",
   "id": "785f15b2",
   "metadata": {
    "id": "1rZy0K3VDCbk"
   },
   "source": [
    "### Cells"
   ]
  },
  {
   "cell_type": "markdown",
   "id": "35c125f7",
   "metadata": {
    "id": "zqYC9KjjH8oF"
   },
   "source": [
    "Each box is called a cell. "
   ]
  },
  {
   "cell_type": "markdown",
   "id": "cbf617f3",
   "metadata": {
    "id": "N2TbIgEgH073"
   },
   "source": [
    "#### Two types of Cells"
   ]
  },
  {
   "cell_type": "markdown",
   "id": "5e5a2d37",
   "metadata": {
    "id": "Yj2f48xPH3wW"
   },
   "source": [
    "##### Text "
   ]
  },
  {
   "cell_type": "markdown",
   "id": "08a7aee6",
   "metadata": {
    "id": "cXmtpnLuIy4u"
   },
   "source": [
    "Text Cells allow you to add text (via Markdown), which includes tables, images, links, bullet lists, numbered lists, LaTeX, blockquote, among other things. "
   ]
  },
  {
   "cell_type": "markdown",
   "id": "32688a1e",
   "metadata": {
    "id": "ItueGCP3JcTy"
   },
   "source": [
    "###### Table \n",
    "\n",
    "```markdown\n",
    "| This | is   |\n",
    "|------|------|\n",
    "|   a  | table| \n",
    "```\n",
    "\n",
    "| This | is   |\n",
    "|------|------|\n",
    "|   a  | table| "
   ]
  },
  {
   "cell_type": "markdown",
   "id": "cf83140f",
   "metadata": {
    "id": "-Qsp7CsAJoBY"
   },
   "source": [
    "###### Image\n",
    "```markdown\n",
    "![Wheat Field with Cypresses](images/vangogh.jpg)\n",
    "```\n",
    "\n",
    "![Wheat Field with Cypresses](images/vangogh.jpg)\n",
    "\n",
    "\n",
    "\n"
   ]
  },
  {
   "cell_type": "markdown",
   "id": "7d7168bf",
   "metadata": {
    "id": "nypi_6ZjNaop"
   },
   "source": [
    "###### Link\n",
    "```markdown\n",
    "[Attribution](https://www.metmuseum.org/art/collection/search/436535)\n",
    "```\n",
    "Vincent van Gogh / Public domain\n",
    "The Metropolitan Museum of Art, New York - Purchase, The Annenberg Foundation Gift, 1993 - \n",
    "[Attribution](https://www.metmuseum.org/art/collection/search/436535)"
   ]
  },
  {
   "cell_type": "markdown",
   "id": "95af6afa",
   "metadata": {
    "id": "qLltad4lLb7h"
   },
   "source": [
    "###### Bullet List\n",
    "```markdown\n",
    "* I am a\n",
    "    * bullet\n",
    "* list\n",
    "```\n",
    "* I am a\n",
    "    * bullet\n",
    "* list\n",
    "\n"
   ]
  },
  {
   "cell_type": "markdown",
   "id": "a71a771f",
   "metadata": {
    "id": "ST3426lBLq_O"
   },
   "source": [
    "###### Numbered List\n",
    "```markdown\n",
    "1. I am a\n",
    "  1. numbered\n",
    "1. list\n",
    "```\n",
    "1. I am a\n",
    "  1. numbered\n",
    "1. list"
   ]
  },
  {
   "cell_type": "markdown",
   "id": "df723c16",
   "metadata": {
    "id": "gwo97_93MREA"
   },
   "source": [
    "###### LaTeX\n",
    "```markdown\n",
    "$$e=mc^2$$\n",
    "```\n",
    "\n",
    "\n",
    "$$e=mc^2$$"
   ]
  },
  {
   "cell_type": "markdown",
   "id": "917d16b6",
   "metadata": {
    "id": "rWlY94TkNAYT"
   },
   "source": [
    "###### Blockquotes\n",
    "```markdown\n",
    "> This is a blockquote.\n",
    "```\n",
    "> This is a blockquote."
   ]
  },
  {
   "cell_type": "markdown",
   "id": "fd351dcb",
   "metadata": {
    "id": "6Qa2PVH9CgqE"
   },
   "source": [
    "##### Code"
   ]
  },
  {
   "cell_type": "markdown",
   "id": "ec5fcce9",
   "metadata": {
    "id": "407akZkvDGgb"
   },
   "source": [
    "Cells can be run using the Run button &#9658; or selecting one of the run options under the Run menu. \n",
    "\n",
    "Try this out! You can change what is in the cell and rerun the same cell, which is useful for debugging."
   ]
  },
  {
   "cell_type": "code",
   "execution_count": 2,
   "id": "1c293922",
   "metadata": {
    "colab": {
     "base_uri": "https://localhost:8080/",
     "height": 34
    },
    "id": "6yTJ2HBDCiAw",
    "outputId": "c635ab07-1ffe-4244-ac4d-2ac66323cd98"
   },
   "outputs": [
    {
     "data": {
      "text/plain": [
       "4"
      ]
     },
     "execution_count": 2,
     "metadata": {},
     "output_type": "execute_result"
    }
   ],
   "source": [
    "2 + 2 "
   ]
  },
  {
   "cell_type": "markdown",
   "id": "8c301f46",
   "metadata": {
    "id": "q6rtDY4qCnzZ"
   },
   "source": [
    "**Your turn**: In a new cell, figure out what **5315 + 5618** is. "
   ]
  },
  {
   "cell_type": "code",
   "execution_count": 3,
   "id": "8c97984f",
   "metadata": {},
   "outputs": [],
   "source": [
    "## remove and type out 5315 + 5618\n",
    "## then hit the play button"
   ]
  },
  {
   "cell_type": "markdown",
   "id": "5f9aec53",
   "metadata": {},
   "source": [
    "#### Jupyter ✨ MAGIC ✨"
   ]
  },
  {
   "cell_type": "markdown",
   "id": "a487a18a",
   "metadata": {},
   "source": [
    "When using other languages in Jupyter/JupyterLab, we need to designate the cell we are using with this langauge or function. To \"activate\" these language, we need to use ✨ MAGIC ✨. Here are a couple of examples."
   ]
  },
  {
   "cell_type": "markdown",
   "id": "50e10361",
   "metadata": {},
   "source": [
    "##### HTML"
   ]
  },
  {
   "cell_type": "code",
   "execution_count": 4,
   "id": "eab670f2",
   "metadata": {},
   "outputs": [
    {
     "data": {
      "text/html": [
       "<ol>\n",
       "  <li>apple</li>\n",
       "  <li>banana</li>\n",
       "  <li>cookies</li>\n",
       "</ol>\n"
      ],
      "text/plain": [
       "<IPython.core.display.HTML object>"
      ]
     },
     "metadata": {},
     "output_type": "display_data"
    }
   ],
   "source": [
    "%%html\n",
    "<ol>\n",
    "  <li>apple</li>\n",
    "  <li>banana</li>\n",
    "  <li>cookies</li>\n",
    "</ol>"
   ]
  },
  {
   "cell_type": "markdown",
   "id": "16d9237e",
   "metadata": {},
   "source": [
    "##### R Language"
   ]
  },
  {
   "cell_type": "markdown",
   "id": "f4ea7bdb",
   "metadata": {},
   "source": [
    "In Google Colab, you do *not* need to install anything, but if you are going to do this on your local machine (your computer). \n",
    "\n",
    "![Anaconda Prompt - installing r-essentials](https://raw.githubusercontent.com/dudaspm/JupyterLab-Python/main/images/command.PNG)\n",
    "\n",
    "You will need to install a few things first. To do this, open up the *Anaconda Prompt (anaconda3)* and run the following two commands:\n",
    "\n",
    "```python\n",
    "conda install -c r r-essentials\n",
    "```\n",
    "and\n",
    "```python\n",
    "conda install -c r rpy2\n",
    "```\n",
    "\n",
    "finally, \n",
    "\n",
    "```python\n",
    "%load_ext rpy2.ipython\n",
    "```\n",
    "\n",
    "In a new cell, we can then add our R code and see it working. \n",
    "\n",
    "```R\n",
    "%%R\n",
    "data <- c(1,2,3)\n",
    "print(data)\n",
    "```\n",
    "\n",
    "Let's try this out."
   ]
  },
  {
   "cell_type": "code",
   "execution_count": 5,
   "id": "e03e8285",
   "metadata": {},
   "outputs": [],
   "source": [
    "# Let's try here! "
   ]
  },
  {
   "cell_type": "markdown",
   "id": "4ee6f979",
   "metadata": {},
   "source": [
    "##### SQL"
   ]
  },
  {
   "cell_type": "code",
   "execution_count": 6,
   "id": "5dbbaa31",
   "metadata": {},
   "outputs": [],
   "source": [
    "%%capture\n",
    "!pip install ipython-sql"
   ]
  },
  {
   "cell_type": "markdown",
   "id": "367f9edc",
   "metadata": {},
   "source": [
    "What's \n",
    "```python \n",
    "%%capture\n",
    "```\n",
    "?\n",
    "\n",
    "```python \n",
    "%%capture\n",
    "```\n",
    "is another bit of magic that *captures* the output of the cell and does not print it. "
   ]
  },
  {
   "cell_type": "code",
   "execution_count": 7,
   "id": "a609b825",
   "metadata": {},
   "outputs": [
    {
     "ename": "ModuleNotFoundError",
     "evalue": "No module named 'sql'",
     "output_type": "error",
     "traceback": [
      "\u001b[0;31m---------------------------------------------------------------------------\u001b[0m",
      "\u001b[0;31mModuleNotFoundError\u001b[0m                       Traceback (most recent call last)",
      "Cell \u001b[0;32mIn[7], line 1\u001b[0m\n\u001b[0;32m----> 1\u001b[0m \u001b[43mget_ipython\u001b[49m\u001b[43m(\u001b[49m\u001b[43m)\u001b[49m\u001b[38;5;241;43m.\u001b[39;49m\u001b[43mrun_line_magic\u001b[49m\u001b[43m(\u001b[49m\u001b[38;5;124;43m'\u001b[39;49m\u001b[38;5;124;43mload_ext\u001b[39;49m\u001b[38;5;124;43m'\u001b[39;49m\u001b[43m,\u001b[49m\u001b[43m \u001b[49m\u001b[38;5;124;43m'\u001b[39;49m\u001b[38;5;124;43msql\u001b[39;49m\u001b[38;5;124;43m'\u001b[39;49m\u001b[43m)\u001b[49m\n",
      "File \u001b[0;32m~/.local/lib/python3.10/site-packages/IPython/core/interactiveshell.py:2480\u001b[0m, in \u001b[0;36mInteractiveShell.run_line_magic\u001b[0;34m(self, magic_name, line, _stack_depth)\u001b[0m\n\u001b[1;32m   2478\u001b[0m     kwargs[\u001b[38;5;124m'\u001b[39m\u001b[38;5;124mlocal_ns\u001b[39m\u001b[38;5;124m'\u001b[39m] \u001b[38;5;241m=\u001b[39m \u001b[38;5;28mself\u001b[39m\u001b[38;5;241m.\u001b[39mget_local_scope(stack_depth)\n\u001b[1;32m   2479\u001b[0m \u001b[38;5;28;01mwith\u001b[39;00m \u001b[38;5;28mself\u001b[39m\u001b[38;5;241m.\u001b[39mbuiltin_trap:\n\u001b[0;32m-> 2480\u001b[0m     result \u001b[38;5;241m=\u001b[39m \u001b[43mfn\u001b[49m\u001b[43m(\u001b[49m\u001b[38;5;241;43m*\u001b[39;49m\u001b[43margs\u001b[49m\u001b[43m,\u001b[49m\u001b[43m \u001b[49m\u001b[38;5;241;43m*\u001b[39;49m\u001b[38;5;241;43m*\u001b[39;49m\u001b[43mkwargs\u001b[49m\u001b[43m)\u001b[49m\n\u001b[1;32m   2482\u001b[0m \u001b[38;5;66;03m# The code below prevents the output from being displayed\u001b[39;00m\n\u001b[1;32m   2483\u001b[0m \u001b[38;5;66;03m# when using magics with decorator @output_can_be_silenced\u001b[39;00m\n\u001b[1;32m   2484\u001b[0m \u001b[38;5;66;03m# when the last Python token in the expression is a ';'.\u001b[39;00m\n\u001b[1;32m   2485\u001b[0m \u001b[38;5;28;01mif\u001b[39;00m \u001b[38;5;28mgetattr\u001b[39m(fn, magic\u001b[38;5;241m.\u001b[39mMAGIC_OUTPUT_CAN_BE_SILENCED, \u001b[38;5;28;01mFalse\u001b[39;00m):\n",
      "File \u001b[0;32m~/.local/lib/python3.10/site-packages/IPython/core/magics/extension.py:33\u001b[0m, in \u001b[0;36mExtensionMagics.load_ext\u001b[0;34m(self, module_str)\u001b[0m\n\u001b[1;32m     31\u001b[0m \u001b[38;5;28;01mif\u001b[39;00m \u001b[38;5;129;01mnot\u001b[39;00m module_str:\n\u001b[1;32m     32\u001b[0m     \u001b[38;5;28;01mraise\u001b[39;00m UsageError(\u001b[38;5;124m'\u001b[39m\u001b[38;5;124mMissing module name.\u001b[39m\u001b[38;5;124m'\u001b[39m)\n\u001b[0;32m---> 33\u001b[0m res \u001b[38;5;241m=\u001b[39m \u001b[38;5;28;43mself\u001b[39;49m\u001b[38;5;241;43m.\u001b[39;49m\u001b[43mshell\u001b[49m\u001b[38;5;241;43m.\u001b[39;49m\u001b[43mextension_manager\u001b[49m\u001b[38;5;241;43m.\u001b[39;49m\u001b[43mload_extension\u001b[49m\u001b[43m(\u001b[49m\u001b[43mmodule_str\u001b[49m\u001b[43m)\u001b[49m\n\u001b[1;32m     35\u001b[0m \u001b[38;5;28;01mif\u001b[39;00m res \u001b[38;5;241m==\u001b[39m \u001b[38;5;124m'\u001b[39m\u001b[38;5;124malready loaded\u001b[39m\u001b[38;5;124m'\u001b[39m:\n\u001b[1;32m     36\u001b[0m     \u001b[38;5;28mprint\u001b[39m(\u001b[38;5;124m\"\u001b[39m\u001b[38;5;124mThe \u001b[39m\u001b[38;5;132;01m%s\u001b[39;00m\u001b[38;5;124m extension is already loaded. To reload it, use:\u001b[39m\u001b[38;5;124m\"\u001b[39m \u001b[38;5;241m%\u001b[39m module_str)\n",
      "File \u001b[0;32m~/.local/lib/python3.10/site-packages/IPython/core/extensions.py:62\u001b[0m, in \u001b[0;36mExtensionManager.load_extension\u001b[0;34m(self, module_str)\u001b[0m\n\u001b[1;32m     55\u001b[0m \u001b[38;5;250m\u001b[39m\u001b[38;5;124;03m\"\"\"Load an IPython extension by its module name.\u001b[39;00m\n\u001b[1;32m     56\u001b[0m \n\u001b[1;32m     57\u001b[0m \u001b[38;5;124;03mReturns the string \"already loaded\" if the extension is already loaded,\u001b[39;00m\n\u001b[1;32m     58\u001b[0m \u001b[38;5;124;03m\"no load function\" if the module doesn't have a load_ipython_extension\u001b[39;00m\n\u001b[1;32m     59\u001b[0m \u001b[38;5;124;03mfunction, or None if it succeeded.\u001b[39;00m\n\u001b[1;32m     60\u001b[0m \u001b[38;5;124;03m\"\"\"\u001b[39;00m\n\u001b[1;32m     61\u001b[0m \u001b[38;5;28;01mtry\u001b[39;00m:\n\u001b[0;32m---> 62\u001b[0m     \u001b[38;5;28;01mreturn\u001b[39;00m \u001b[38;5;28;43mself\u001b[39;49m\u001b[38;5;241;43m.\u001b[39;49m\u001b[43m_load_extension\u001b[49m\u001b[43m(\u001b[49m\u001b[43mmodule_str\u001b[49m\u001b[43m)\u001b[49m\n\u001b[1;32m     63\u001b[0m \u001b[38;5;28;01mexcept\u001b[39;00m \u001b[38;5;167;01mModuleNotFoundError\u001b[39;00m:\n\u001b[1;32m     64\u001b[0m     \u001b[38;5;28;01mif\u001b[39;00m module_str \u001b[38;5;129;01min\u001b[39;00m BUILTINS_EXTS:\n",
      "File \u001b[0;32m~/.local/lib/python3.10/site-packages/IPython/core/extensions.py:77\u001b[0m, in \u001b[0;36mExtensionManager._load_extension\u001b[0;34m(self, module_str)\u001b[0m\n\u001b[1;32m     75\u001b[0m \u001b[38;5;28;01mwith\u001b[39;00m \u001b[38;5;28mself\u001b[39m\u001b[38;5;241m.\u001b[39mshell\u001b[38;5;241m.\u001b[39mbuiltin_trap:\n\u001b[1;32m     76\u001b[0m     \u001b[38;5;28;01mif\u001b[39;00m module_str \u001b[38;5;129;01mnot\u001b[39;00m \u001b[38;5;129;01min\u001b[39;00m sys\u001b[38;5;241m.\u001b[39mmodules:\n\u001b[0;32m---> 77\u001b[0m         mod \u001b[38;5;241m=\u001b[39m \u001b[43mimport_module\u001b[49m\u001b[43m(\u001b[49m\u001b[43mmodule_str\u001b[49m\u001b[43m)\u001b[49m\n\u001b[1;32m     78\u001b[0m     mod \u001b[38;5;241m=\u001b[39m sys\u001b[38;5;241m.\u001b[39mmodules[module_str]\n\u001b[1;32m     79\u001b[0m     \u001b[38;5;28;01mif\u001b[39;00m \u001b[38;5;28mself\u001b[39m\u001b[38;5;241m.\u001b[39m_call_load_ipython_extension(mod):\n",
      "File \u001b[0;32m/usr/lib/python3.10/importlib/__init__.py:126\u001b[0m, in \u001b[0;36mimport_module\u001b[0;34m(name, package)\u001b[0m\n\u001b[1;32m    124\u001b[0m             \u001b[38;5;28;01mbreak\u001b[39;00m\n\u001b[1;32m    125\u001b[0m         level \u001b[38;5;241m+\u001b[39m\u001b[38;5;241m=\u001b[39m \u001b[38;5;241m1\u001b[39m\n\u001b[0;32m--> 126\u001b[0m \u001b[38;5;28;01mreturn\u001b[39;00m \u001b[43m_bootstrap\u001b[49m\u001b[38;5;241;43m.\u001b[39;49m\u001b[43m_gcd_import\u001b[49m\u001b[43m(\u001b[49m\u001b[43mname\u001b[49m\u001b[43m[\u001b[49m\u001b[43mlevel\u001b[49m\u001b[43m:\u001b[49m\u001b[43m]\u001b[49m\u001b[43m,\u001b[49m\u001b[43m \u001b[49m\u001b[43mpackage\u001b[49m\u001b[43m,\u001b[49m\u001b[43m \u001b[49m\u001b[43mlevel\u001b[49m\u001b[43m)\u001b[49m\n",
      "File \u001b[0;32m<frozen importlib._bootstrap>:1050\u001b[0m, in \u001b[0;36m_gcd_import\u001b[0;34m(name, package, level)\u001b[0m\n",
      "File \u001b[0;32m<frozen importlib._bootstrap>:1027\u001b[0m, in \u001b[0;36m_find_and_load\u001b[0;34m(name, import_)\u001b[0m\n",
      "File \u001b[0;32m<frozen importlib._bootstrap>:1004\u001b[0m, in \u001b[0;36m_find_and_load_unlocked\u001b[0;34m(name, import_)\u001b[0m\n",
      "\u001b[0;31mModuleNotFoundError\u001b[0m: No module named 'sql'"
     ]
    }
   ],
   "source": [
    "%load_ext sql"
   ]
  },
  {
   "cell_type": "code",
   "execution_count": 9,
   "id": "248e9934",
   "metadata": {},
   "outputs": [],
   "source": [
    "%sql sqlite:///exampleDatabase.db"
   ]
  },
  {
   "cell_type": "markdown",
   "id": "88c778a7",
   "metadata": {},
   "source": [
    "More information can be found here: [Jupyter ✨ MAGIC ✨](https://ipython.readthedocs.io/en/stable/interactive/magics.html)"
   ]
  },
  {
   "cell_type": "markdown",
   "id": "0dfeabe5-c0e7-461c-a581-947fa8f40032",
   "metadata": {},
   "source": [
    "## All About Google Colab - 🐦"
   ]
  },
  {
   "cell_type": "markdown",
   "id": "7728c62f-6aba-4b2d-93c9-d4ea28003111",
   "metadata": {},
   "source": [
    "### Working with Data \n",
    "For this notebook, we will be focusing on using Google Colab {cite:ps}`GoogleColaboratoryIO`\n"
   ]
  },
  {
   "cell_type": "markdown",
   "id": "e1cac43b-7d52-41ad-b6fc-4658342f1e51",
   "metadata": {},
   "source": [
    "#### A Temporary Solution\n",
    "\n",
    "You can create and interact with files when you access Google Colab, *BUT* they will disappear after your session ends. An example would be:"
   ]
  },
  {
   "cell_type": "code",
   "execution_count": 10,
   "id": "4e975039-2a42-48b7-afd3-9178bf188b47",
   "metadata": {},
   "outputs": [],
   "source": [
    "f = open(\"thanosSnapping.txt\", \"a\")\n",
    "f.write(\"you should've gone for the head\")\n",
    "f.close()"
   ]
  },
  {
   "cell_type": "markdown",
   "id": "eaef4a13-0c08-448c-86bf-6541be903aee",
   "metadata": {},
   "source": [
    "```{warning} \n",
    "Super serious here. \n",
    "If files are not written to your local machine or your Google Drive. They will be **gone** the next time you log in.\n",
    "```"
   ]
  },
  {
   "cell_type": "markdown",
   "id": "2324db82-cc8f-45b9-ac4a-370e28233a54",
   "metadata": {},
   "source": [
    "We need a better solution for this. So, let's take a look at these options. "
   ]
  },
  {
   "cell_type": "markdown",
   "id": "cbf4acb2-0cfd-4d4e-8ae3-b19ff5c3f9d1",
   "metadata": {},
   "source": [
    "#### Connecting to Your Google Drive\n",
    "\n",
    "There are two ways to connect to your Google Drive. \n",
    "\n",
    "##### Selecting the Icon to Connect\n",
    "\n",
    "```{image} https://raw.githubusercontent.com/dudaspm/JupyterLab-Python/main/images/connectToDrive.PNG\n",
    ":alt: Icon for Connecting to Google Colab\n",
    ":width: 400px\n",
    ":align: center\n",
    "```\n",
    "\n",
    "##### Connecting Using Google Colab Code\n",
    "\n",
    "```python\n",
    "from google.colab import drive\n",
    "drive.mount('/content/drive')\n",
    "```\n",
    "\n",
    "This will look something like this:\n",
    "\n",
    "```{image} https://raw.githubusercontent.com/dudaspm/JupyterLab-Python/main/images/googleColabConnect.PNG\n",
    ":alt: Connecting to Google Colab with Code\n",
    ":width: 500px\n",
    ":align: center\n",
    "```"
   ]
  },
  {
   "cell_type": "markdown",
   "id": "9441155f-5027-447f-bd41-ddd187af5cb6",
   "metadata": {},
   "source": [
    "##### I am Connected, Now What?\n",
    "\n",
    "It can be a bit difficult to figure out where to place files and where your files are located in Google Colab. Once you connect, you will need to navigate the folder structure to find your file. They did not make this very easy to find. Here is a quick screenshot.\n",
    "\n",
    "\n",
    "```{image} https://raw.githubusercontent.com/dudaspm/JupyterLab-Python/main/images/contentFolder.PNG\n",
    ":alt: file structure in Google Colab\n",
    ":width: 400px\n",
    ":align: center\n",
    "```"
   ]
  },
  {
   "cell_type": "markdown",
   "id": "c21c21a0-91eb-4327-b5b1-83b38ba2b164",
   "metadata": {
    "tags": [
     "hide-cell"
    ]
   },
   "source": [
    "#### Connecting to Gitlab\n",
    "Another way to work with data outside of your Google Drive is using something like GitHub or, in our case GitLab. A bit of a warning before we begin."
   ]
  },
  {
   "cell_type": "markdown",
   "id": "198d5f4a-ec04-4cfd-a3ba-abe01554d794",
   "metadata": {},
   "source": [
    "```{warning}\n",
    "Github is an open repository. Any file placed on Github is available for *ANYONE* to view, download, or edit. \n",
    "```"
   ]
  },
  {
   "cell_type": "markdown",
   "id": "2a3bb682-0775-48b5-b1c1-18e18a187f1a",
   "metadata": {},
   "source": [
    "Make sure you read of the terms of services as well! \n",
    "\n",
    "For accessing GitLab through Penn State, here is the link (https://git.psu.edu/). You do need to setup a username/password to start creating. \n",
    "\n",
    "If you are interest in using Git, let me show the basics. \n",
    "\n",
    "##### Creating a Connection (SSH)\n",
    "\n",
    "The first step in this process is to create a connection between Google Colab and GitLab, and this starts with saying to Google Colab: You can connect to this resource because I gave you access. The way we do this is to create an *SSH Key*.\n",
    "\n"
   ]
  },
  {
   "cell_type": "markdown",
   "id": "c5cd6822-091b-487b-bb51-51d57c08c27a",
   "metadata": {},
   "source": [
    "```{note}\n",
    "Code will run in Google Colab but has been commented out to work on the website. \n",
    "```"
   ]
  },
  {
   "cell_type": "markdown",
   "id": "8d6300ba-598c-4f6c-8b38-ac80157a8c42",
   "metadata": {},
   "source": [
    "```python\n",
    "!ssh-keygen -t ed25519 -C \"SSH key for google colab\"\n",
    "```"
   ]
  },
  {
   "cell_type": "code",
   "execution_count": 11,
   "id": "0708209e-2b3c-45e7-b77a-6cef5342df46",
   "metadata": {},
   "outputs": [],
   "source": [
    "#!ssh-keygen -t ed25519 -C \"SSH key for google colab\""
   ]
  },
  {
   "cell_type": "markdown",
   "id": "38ed4bfa-ea9a-41b8-9506-f469b10ef264",
   "metadata": {},
   "source": [
    "To see this file, we will need to read the file using a UNIX command call 😸 (cat or con**cat**enate)\n",
    "\n",
    "```python \n",
    "!cat /root/.ssh/id_ed25519.pub\n",
    "```"
   ]
  },
  {
   "cell_type": "code",
   "execution_count": 12,
   "id": "e98ada9b-7a7c-4a31-a24c-afbe61f36ccc",
   "metadata": {},
   "outputs": [],
   "source": [
    "#!cat /root/.ssh/id_ed25519.pub"
   ]
  },
  {
   "cell_type": "markdown",
   "id": "85d0ca78-dcc8-4d4d-a7c6-5266d7c721a3",
   "metadata": {},
   "source": [
    "We now need to tell SSH that the PSU GitLab is fine to connect to (it is a known host). \n",
    "\n",
    "```python\n",
    "!ssh-keyscan git.psu.edu >> /root/.ssh/known_hosts\n",
    "```"
   ]
  },
  {
   "cell_type": "code",
   "execution_count": 13,
   "id": "6b185e5a-5f9c-4227-af5f-451c05aee5f1",
   "metadata": {},
   "outputs": [],
   "source": [
    "#!ssh-keyscan git.psu.edu >> /root/.ssh/known_hosts"
   ]
  },
  {
   "cell_type": "markdown",
   "id": "af74ef25-9349-42ac-9462-a21636903384",
   "metadata": {},
   "source": [
    "Now in GitLab, we need to add this SSH key to our account. \n",
    "\n",
    "![GitLab adding SSH](https://raw.githubusercontent.com/dudaspm/JupyterLab-Python/main/images/gitlabSSH.PNG)"
   ]
  },
  {
   "cell_type": "markdown",
   "id": "9ba52754-0ba0-4c83-b42f-4d1d5edf87f4",
   "metadata": {},
   "source": [
    "Finally, let's test this connection. \n",
    "\n",
    "```python\n",
    "!ssh -T git@git.psu.edu\n",
    "```"
   ]
  },
  {
   "cell_type": "code",
   "execution_count": 14,
   "id": "a813067d-b743-4a25-8507-21dccf356109",
   "metadata": {},
   "outputs": [],
   "source": [
    "#!ssh -T git@git.psu.edu"
   ]
  },
  {
   "cell_type": "markdown",
   "id": "2db1e6d8-4d35-4968-9b95-014d370597d9",
   "metadata": {},
   "source": [
    "You should receive a message that looks like this:\n",
    ">Warning: Permanently added the ECDSA host key for IP address '***.***.***.***' to the list of known hosts.\n",
    "Welcome to GitLab, @you!"
   ]
  },
  {
   "cell_type": "markdown",
   "id": "8aa59be3-4003-4a22-b63d-02737a340223",
   "metadata": {},
   "source": [
    "##### The Push and Pull of Git"
   ]
  },
  {
   "cell_type": "markdown",
   "id": "d77e27ee-7c25-44da-9b4a-21f9e23efdbb",
   "metadata": {},
   "source": [
    "Git, basically, is a push and pull mechanism. You *pull* your project down from GitLab. Make changes. Then *push* it back to GitLab. Here is an example of doing this with your file from before. First, we **clone** the repository. \n",
    "\n",
    "```python\n",
    "!git clone git@git.psu.edu:pmd19/workshop_temp.git\n",
    "```"
   ]
  },
  {
   "cell_type": "code",
   "execution_count": 15,
   "id": "29869e34-4ca1-4212-9ffe-f46ad2f6e8c7",
   "metadata": {},
   "outputs": [],
   "source": [
    "#!git clone git@git.psu.edu:pmd19/workshop_temp.git"
   ]
  },
  {
   "cell_type": "markdown",
   "id": "92f9f20a-2a04-473e-abbc-7bb764de64ed",
   "metadata": {},
   "source": [
    "We then **pull** the current content from GitLab. Note cd stands for Change Directory, and PWD stands for Print Work Directory. \n",
    "\n",
    "```python\n",
    "%cd /content/workshop_temp\n",
    "!pwd\n",
    "!git pull origin master\n",
    "```"
   ]
  },
  {
   "cell_type": "code",
   "execution_count": 16,
   "id": "852e1e44-e83f-43f1-84ae-3e8609971aa8",
   "metadata": {},
   "outputs": [],
   "source": [
    "#%cd /content/workshop_temp\n",
    "#!pwd\n",
    "#!git pull origin master"
   ]
  },
  {
   "cell_type": "markdown",
   "id": "f81849b9-a52c-4ee4-beff-a85333ac568e",
   "metadata": {},
   "source": [
    "We write our file to our directory and **add** it to the list of things we want to update on GitLab.\n",
    "\n",
    "```python\n",
    "!pwd\n",
    "f = open(\"thanosSnapping.txt\", \"w\")\n",
    "f.write(\"you should've gone for the head\")\n",
    "f.close()\n",
    "!git add \"thanosSnapping.txt\"\n",
    "```"
   ]
  },
  {
   "cell_type": "code",
   "execution_count": 17,
   "id": "2ffede9a-3cf9-4868-9f1b-0312cda04cad",
   "metadata": {},
   "outputs": [],
   "source": [
    "#!pwd\n",
    "#f = open(\"thanosSnapping.txt\", \"w\")\n",
    "#f.write(\"you should've gone for the head\")\n",
    "#f.close()\n",
    "#!git add \"thanosSnapping.txt\""
   ]
  },
  {
   "cell_type": "markdown",
   "id": "088748c3-d9fe-4d5d-9f87-99c6ec754230",
   "metadata": {},
   "source": [
    "Git wants to make sure it knows who is updating what, so it needs a person and an email address to associate the changes. We then **commit** to these changes, and finally, we **push** our changes to GitLab.\n",
    "\n",
    "```python\n",
    "!git config --global user.email 'pmd19@psu.edu'\n",
    "!git config --global user.name 'Patrick Dudas'\n",
    "!git commit -m \"testing\"\n",
    "!git push git@git.psu.edu:pmd19/workshop_temp.git\n",
    "```"
   ]
  },
  {
   "cell_type": "code",
   "execution_count": 18,
   "id": "a69f2d67-9cd0-4b15-9f53-3d7bf683d201",
   "metadata": {},
   "outputs": [],
   "source": [
    "#!git config --global user.email 'pmd19@psu.edu'\n",
    "#!git config --global user.name 'Patrick Dudas'\n",
    "#!git commit -m \"testing\"\n",
    "#!git push git@git.psu.edu:pmd19/workshop_temp.git"
   ]
  }
 ],
 "metadata": {
  "kernelspec": {
   "display_name": "Python 3",
   "language": "python",
   "name": "python3"
  },
  "language_info": {
   "codemirror_mode": {
    "name": "ipython",
    "version": 3
   },
   "file_extension": ".py",
   "mimetype": "text/x-python",
   "name": "python",
   "nbconvert_exporter": "python",
   "pygments_lexer": "ipython3",
   "version": "3.10.12"
  }
 },
 "nbformat": 4,
 "nbformat_minor": 5
}