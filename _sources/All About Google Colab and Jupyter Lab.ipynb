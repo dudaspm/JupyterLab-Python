{
 "cells": [
  {
   "cell_type": "markdown",
   "id": "0dfeabe5-c0e7-461c-a581-947fa8f40032",
   "metadata": {},
   "source": [
    "# All About Google Colab and Jupyter Lab"
   ]
  },
  {
   "cell_type": "markdown",
   "id": "cbf4acb2-0cfd-4d4e-8ae3-b19ff5c3f9d1",
   "metadata": {},
   "source": [
    "## Connecting to Your Google Drive\n",
    "\n",
    "There are two ways to connect to your Google Drive. \n",
    "\n",
    "### Selecting the Icon to Connect\n",
    "\n",
    "```{image} https://raw.githubusercontent.com/dudaspm/JupyterLab-Python/main/images/connectToDrive.PNG\n",
    ":alt: Icon for Connecting to Google Colab\n",
    ":width: 200px\n",
    ":align: center\n",
    "```\n",
    "\n",
    "### Connecting Using Google Colab Code\n",
    "\n",
    "```python\n",
    "from google.colab import drive\n",
    "drive.mount('/content/drive')\n",
    "```\n",
    "\n",
    "This will look something like this:\n",
    "![Connecting to Google Colab with Code](https://raw.githubusercontent.com/dudaspm/JupyterLab-Python/main/images/googleColabConnect.PNG)"
   ]
  },
  {
   "cell_type": "code",
   "execution_count": null,
   "id": "06352d0f-f5b9-4742-8b7c-a12a007761cb",
   "metadata": {},
   "outputs": [],
   "source": []
  }
 ],
 "metadata": {
  "kernelspec": {
   "display_name": "Python 3",
   "language": "python",
   "name": "python3"
  },
  "language_info": {
   "codemirror_mode": {
    "name": "ipython",
    "version": 3
   },
   "file_extension": ".py",
   "mimetype": "text/x-python",
   "name": "python",
   "nbconvert_exporter": "python",
   "pygments_lexer": "ipython3",
   "version": "3.8.5"
  }
 },
 "nbformat": 4,
 "nbformat_minor": 5
}
